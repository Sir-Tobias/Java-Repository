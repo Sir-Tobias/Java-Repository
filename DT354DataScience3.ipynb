{
  "nbformat": 4,
  "nbformat_minor": 0,
  "metadata": {
    "colab": {
      "name": "DT354DataScience3.ipynb",
      "provenance": [],
      "collapsed_sections": [],
      "authorship_tag": "ABX9TyNqpFs+W6tOtsPGStDcX7c0",
      "include_colab_link": true
    },
    "kernelspec": {
      "name": "python3",
      "display_name": "Python 3"
    }
  },
  "cells": [
    {
      "cell_type": "markdown",
      "metadata": {
        "id": "view-in-github",
        "colab_type": "text"
      },
      "source": [
        "<a href=\"https://colab.research.google.com/github/Sir-Tobias/Java-Repository/blob/master/DT354DataScience3.ipynb\" target=\"_parent\"><img src=\"https://colab.research.google.com/assets/colab-badge.svg\" alt=\"Open In Colab\"/></a>"
      ]
    },
    {
      "cell_type": "markdown",
      "metadata": {
        "id": "_yP20U-PKskd"
      },
      "source": [
        "**This is used to label your code**\n",
        "hello world example\n",
        "\n",
        "*   Hello world example\n",
        "*   Valuable assignment\n",
        "\n",
        "\n"
      ]
    },
    {
      "cell_type": "code",
      "metadata": {
        "id": "z-U63kAvKVfb",
        "outputId": "011a7c0b-e974-4d93-870b-5a0637c4c300",
        "colab": {
          "base_uri": "https://localhost:8080/",
          "height": 52
        }
      },
      "source": [
        "mass = 25\n",
        "\n",
        "volume = 5\n",
        "\n",
        "density = mass/volume\n",
        "\n",
        "print(density)\n",
        "\n",
        "message = 'hello'\n",
        "person = 'bob'\n",
        "\n",
        "welcome = message + ' ' + person\n",
        "print(welcome)\n",
        "\n"
      ],
      "execution_count": null,
      "outputs": [
        {
          "output_type": "stream",
          "text": [
            "5.0\n",
            "hello bob\n"
          ],
          "name": "stdout"
        }
      ]
    },
    {
      "cell_type": "markdown",
      "metadata": {
        "id": "Nylni72KO1P4"
      },
      "source": [
        "Type Example"
      ]
    },
    {
      "cell_type": "code",
      "metadata": {
        "id": "uVtBA6xmO35X",
        "outputId": "8c36efb3-8329-4063-f1eb-a1e8ac1d40ec",
        "colab": {
          "base_uri": "https://localhost:8080/",
          "height": 69
        }
      },
      "source": [
        "isTodaySunday = False\n",
        "\n",
        "print(type(isTodaySunday)) # bool\n",
        "\n",
        "value_str = \"25\"\n",
        "\n",
        "print(type(value_str))\n",
        "print(type(int(value_str))) # forced type int because the value \"25\" can also be converted to an int"
      ],
      "execution_count": null,
      "outputs": [
        {
          "output_type": "stream",
          "text": [
            "<class 'bool'>\n",
            "<class 'str'>\n",
            "<class 'int'>\n"
          ],
          "name": "stdout"
        }
      ]
    },
    {
      "cell_type": "markdown",
      "metadata": {
        "id": "vPCxja9xQrul"
      },
      "source": [
        "Help command syntax\n",
        "\n",
        "\n",
        "*   Put a question mark infront of anything you dont understand\n",
        "*   ?len\n",
        "\n",
        "\n",
        "*   ?type\n",
        "*   ?print\n",
        "\n",
        "\n",
        "\n",
        "\n",
        "\n"
      ]
    },
    {
      "cell_type": "code",
      "metadata": {
        "id": "GSntrwjoQt_-"
      },
      "source": [
        "?len\n",
        "\n",
        "?type\n",
        "\n",
        "?print"
      ],
      "execution_count": null,
      "outputs": []
    },
    {
      "cell_type": "markdown",
      "metadata": {
        "id": "y8aWf15SSAxY"
      },
      "source": [
        "Python Lists"
      ]
    },
    {
      "cell_type": "code",
      "metadata": {
        "id": "Z8t7wDa1Seyu",
        "outputId": "92e89060-092f-4945-fb71-2a4957bd7084",
        "colab": {
          "base_uri": "https://localhost:8080/",
          "height": 104
        }
      },
      "source": [
        "a = \"is\"\n",
        "b = 2\n",
        "\n",
        "my_list = [\"my_list\", a, b]\n",
        "list_of_lists = [ my_list,[4,5]]\n",
        "list_of_different_items = [my_list,[4,5],8]\n",
        "print(\"list_of_different_items[0] .7\", list_of_different_items[0])\n",
        "print(\"list_of_different_items[1] .8\", list_of_different_items[1])\n",
        "print(\"list_of_different_items[2].9\", list_of_different_items[2])\n",
        "print(\"list_of_different_items[-1].10\", list_of_different_items[-1])\n",
        "print(\"list_of_different_items len .11\", len(list_of_different_items))"
      ],
      "execution_count": null,
      "outputs": [
        {
          "output_type": "stream",
          "text": [
            "list_of_different_items[0] .7 ['my_list', 'is', 2]\n",
            "list_of_different_items[1] .8 [4, 5]\n",
            "list_of_different_items[2].9 8\n",
            "list_of_different_items[-1].10 8\n",
            "list_of_different_items len .11 3\n"
          ],
          "name": "stdout"
        }
      ]
    },
    {
      "cell_type": "markdown",
      "metadata": {
        "id": "T3vWmKP9ZCCZ"
      },
      "source": [
        "ASK GOOGLE EXAMPLE"
      ]
    },
    {
      "cell_type": "code",
      "metadata": {
        "id": "Ig_n2qn8ZGM7",
        "outputId": "a61b4aa5-3086-44d6-e8e1-5aa0820996dc",
        "colab": {
          "base_uri": "https://localhost:8080/",
          "height": 52
        }
      },
      "source": [
        "town = \"Dublin and Derry\"\n",
        "print(town.lower())\n",
        "print(town.lower().count('d'))\n",
        "\n"
      ],
      "execution_count": null,
      "outputs": [
        {
          "output_type": "stream",
          "text": [
            "dublin and derry\n",
            "3\n"
          ],
          "name": "stdout"
        }
      ]
    },
    {
      "cell_type": "markdown",
      "metadata": {
        "id": "hejPDouzcUi-"
      },
      "source": [
        "Packages & Import"
      ]
    },
    {
      "cell_type": "code",
      "metadata": {
        "id": "UW-9enMucaMe"
      },
      "source": [
        "import math\n",
        "\n",
        "print(math.sqrt(4))\n",
        "\n",
        "from math import sin #You can import a specific function from the math libary\n",
        "print(sin(90))\n",
        "\n",
        "import math as m# Import as M because you do not have to type math each time\n",
        "print(m.sin(90))"
      ],
      "execution_count": null,
      "outputs": []
    },
    {
      "cell_type": "markdown",
      "metadata": {
        "id": "zPnISdzSdesx"
      },
      "source": [
        "Logic"
      ]
    },
    {
      "cell_type": "code",
      "metadata": {
        "id": "TyEiDkDpdiJ-"
      },
      "source": [
        "print(True == False)\n",
        "print(2*8! = -8)\n",
        "\n",
        "print('Ireland' == 'ireland')\n",
        "print(False == 0)\n"
      ],
      "execution_count": null,
      "outputs": []
    },
    {
      "cell_type": "markdown",
      "metadata": {
        "id": "UlLAy7LqfHXU"
      },
      "source": [
        "Control Flow"
      ]
    },
    {
      "cell_type": "code",
      "metadata": {
        "id": "Yi8mEw9VfJbc",
        "outputId": "1ea604f6-2c95-425f-af4c-e92663afcdba",
        "colab": {
          "base_uri": "https://localhost:8080/",
          "height": 35
        }
      },
      "source": [
        "if 9 > 10:\n",
        "    print(\"9 is greater than 10\")\n",
        "elif 9 == 10:\n",
        "    print(\"9 is equal to 10\")\n",
        "else:\n",
        "    print(\"9 is lesser than 10\")"
      ],
      "execution_count": null,
      "outputs": [
        {
          "output_type": "stream",
          "text": [
            "9 is lesser than 10\n"
          ],
          "name": "stdout"
        }
      ]
    },
    {
      "cell_type": "markdown",
      "metadata": {
        "id": "stIEKoc-M-SX"
      },
      "source": [
        "WEEK 3"
      ]
    },
    {
      "cell_type": "code",
      "metadata": {
        "id": "1wKbvT3sNAue",
        "outputId": "48f4b36b-5767-47f8-b796-c5cf0db7a005",
        "colab": {
          "base_uri": "https://localhost:8080/"
        }
      },
      "source": [
        "x = 1\n",
        "while x <3: #That has a condition that must be met \n",
        "    print(x)\n",
        "    x += 1\n",
        "print('>outside break')\n",
        "\n",
        "while True: #infinite while loop that must be supported through a break\n",
        "    print(x)\n",
        "    x += 1\n",
        "    print (x)\n",
        "    if x> 6:\n",
        "      break\n",
        "print('outside')"
      ],
      "execution_count": 8,
      "outputs": [
        {
          "output_type": "stream",
          "text": [
            "1\n",
            "2\n",
            ">outside break\n",
            "3\n",
            "4\n",
            "4\n",
            "5\n",
            "5\n",
            "6\n",
            "6\n",
            "7\n",
            "outside\n"
          ],
          "name": "stdout"
        }
      ]
    },
    {
      "cell_type": "markdown",
      "metadata": {
        "id": "Ir-SBL2kO8-L"
      },
      "source": [
        "Defining your own functions"
      ]
    },
    {
      "cell_type": "code",
      "metadata": {
        "id": "CnsU9KuFPsII",
        "outputId": "8ff7a735-8be5-47d7-80b8-cb29cbb9fff4",
        "colab": {
          "base_uri": "https://localhost:8080/",
          "height": 235
        }
      },
      "source": [
        "def sum_fr(a,b):\n",
        "  c = a + b\n",
        "  return c\n",
        "\n",
        "print(\n",
        "     sum_fn(\n",
        "         1, sum_fn(2)\n",
        "        )\n",
        ")\n",
        "\n",
        "print(\n",
        "    sum_fn(\n",
        "        sum_fn(1,2), 3\n",
        "        )\n",
        "    )\n",
        "\n",
        "print(\n",
        "    sum_fn(\n",
        "        sum_fn(1,2), sum_fn(2,2)\n",
        "        )\n",
        "    )\n"
      ],
      "execution_count": 29,
      "outputs": [
        {
          "output_type": "error",
          "ename": "NameError",
          "evalue": "ignored",
          "traceback": [
            "\u001b[0;31m---------------------------------------------------------------------------\u001b[0m",
            "\u001b[0;31mNameError\u001b[0m                                 Traceback (most recent call last)",
            "\u001b[0;32m<ipython-input-29-194ba97791d8>\u001b[0m in \u001b[0;36m<module>\u001b[0;34m()\u001b[0m\n\u001b[1;32m      4\u001b[0m \u001b[0;34m\u001b[0m\u001b[0m\n\u001b[1;32m      5\u001b[0m print(\n\u001b[0;32m----> 6\u001b[0;31m      sum_fn(\n\u001b[0m\u001b[1;32m      7\u001b[0m          \u001b[0;36m1\u001b[0m\u001b[0;34m,\u001b[0m \u001b[0msum_fn\u001b[0m\u001b[0;34m(\u001b[0m\u001b[0;36m2\u001b[0m\u001b[0;34m)\u001b[0m\u001b[0;34m\u001b[0m\u001b[0;34m\u001b[0m\u001b[0m\n\u001b[1;32m      8\u001b[0m         )\n",
            "\u001b[0;31mNameError\u001b[0m: name 'sum_fn' is not defined"
          ]
        }
      ]
    },
    {
      "cell_type": "markdown",
      "metadata": {
        "id": "vlAU940kVgDf"
      },
      "source": [
        "DICTIONARY"
      ]
    },
    {
      "cell_type": "code",
      "metadata": {
        "id": "BlejkmcKVlGz",
        "outputId": "49b847e6-9479-46d0-8505-5b3ea151a486",
        "colab": {
          "base_uri": "https://localhost:8080/"
        }
      },
      "source": [
        "irish_pop_dict = {'Dublin': 1345602, 'Antrim': 617345, 'Cork': 546709}\n",
        "print(irish_pop_dict['Dublin'])\n",
        "print(irish_pop_dict.keys())\n",
        "print(irish_pop_dict.values())\n",
        "print(irish_pop_dict.items())\n",
        "print('Dublin' in irish_pop_dict)\n",
        "print('Down' in irish_pop_dict)\n",
        "irish_pop_dict['Down'] = 342183\n",
        "print(irish_pop_dict)"
      ],
      "execution_count": 28,
      "outputs": [
        {
          "output_type": "stream",
          "text": [
            "1345602\n",
            "dict_keys(['Dublin', 'Antrim', 'Cork'])\n",
            "dict_values([1345602, 617345, 546709])\n",
            "dict_items([('Dublin', 1345602), ('Antrim', 617345), ('Cork', 546709)])\n",
            "True\n",
            "False\n",
            "{'Dublin': 1345602, 'Antrim': 617345, 'Cork': 546709, 'Down': 342183}\n"
          ],
          "name": "stdout"
        }
      ]
    },
    {
      "cell_type": "markdown",
      "metadata": {
        "id": "_WPtH3qfXWlM"
      },
      "source": [
        "LOOPING OVER THE DICTIONARY"
      ]
    },
    {
      "cell_type": "code",
      "metadata": {
        "id": "ASZ8cqChXfJX",
        "outputId": "99851a2a-aeed-4151-a1d4-8151c6c032d1",
        "colab": {
          "base_uri": "https://localhost:8080/"
        }
      },
      "source": [
        "d = {'one': 1, 'two': 2}\n",
        "\n",
        "for k, v in d.items():\n",
        "  print(k,v)"
      ],
      "execution_count": 30,
      "outputs": [
        {
          "output_type": "stream",
          "text": [
            "one 1\n",
            "two 2\n"
          ],
          "name": "stdout"
        }
      ]
    },
    {
      "cell_type": "markdown",
      "metadata": {
        "id": "gRbPJWh8YWec"
      },
      "source": [
        "Practice Dictionary"
      ]
    },
    {
      "cell_type": "code",
      "metadata": {
        "id": "jOrzzRVkYbC4"
      },
      "source": [
        "mycountries_dict = {}\n",
        "\n",
        "mycountries_dict[\"Ireland\"] = ['Dublin', 'Meath']\n",
        "mycountries_dict[\"France\"] = ['Paris', 'Lyon']\n",
        "print(mycountries_dict)\n",
        "#Applying a function\n",
        "mycountries_dict[\"Ireland\"].append('Cork')\n",
        "print(mycountries_dict)\n",
        "for a, c in mycountries_dict.items():\n",
        "  print(a,c)\n",
        "\n"
      ],
      "execution_count": null,
      "outputs": []
    },
    {
      "cell_type": "markdown",
      "metadata": {
        "id": "bsJbbj45c2re"
      },
      "source": [
        "ITER METHODS"
      ]
    },
    {
      "cell_type": "code",
      "metadata": {
        "id": "EmqXWOm5c5Ch"
      },
      "source": [
        "for it in 'cat'# creates an iter method in the background"
      ],
      "execution_count": null,
      "outputs": []
    },
    {
      "cell_type": "markdown",
      "metadata": {
        "id": "axK6AF29fwks"
      },
      "source": [
        "ZIP METHOD"
      ]
    },
    {
      "cell_type": "code",
      "metadata": {
        "id": "XYMv5vaCf1i1",
        "outputId": "f7b45c8c-6a70-4cc9-d779-8cab30140d7a",
        "colab": {
          "base_uri": "https://localhost:8080/"
        }
      },
      "source": [
        "joined = zip([1,2,3], [4,5,6])#packing or zipping\n",
        "for x, y in joined:\n",
        "  print(x,y)\n",
        "\n",
        "  print(*zip([1,2,3], [4,5,6]))\n",
        "  l1,l2 = zip(*zip([1,2,3], [4,5,6]))\n",
        "  print(l1,l2)"
      ],
      "execution_count": 33,
      "outputs": [
        {
          "output_type": "stream",
          "text": [
            "1 4\n",
            "(1, 4) (2, 5) (3, 6)\n",
            "(1, 2, 3) (4, 5, 6)\n",
            "2 5\n",
            "(1, 4) (2, 5) (3, 6)\n",
            "(1, 2, 3) (4, 5, 6)\n",
            "3 6\n",
            "(1, 4) (2, 5) (3, 6)\n",
            "(1, 2, 3) (4, 5, 6)\n"
          ],
          "name": "stdout"
        }
      ]
    }
  ]
}