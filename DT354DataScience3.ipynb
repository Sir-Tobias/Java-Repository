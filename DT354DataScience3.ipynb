{
  "nbformat": 4,
  "nbformat_minor": 0,
  "metadata": {
    "colab": {
      "name": "DT354DataScience3.ipynb",
      "provenance": [],
      "collapsed_sections": [],
      "authorship_tag": "ABX9TyPRemEr03xW7Ps2zNG170aG",
      "include_colab_link": true
    },
    "kernelspec": {
      "name": "python3",
      "display_name": "Python 3"
    }
  },
  "cells": [
    {
      "cell_type": "markdown",
      "metadata": {
        "id": "view-in-github",
        "colab_type": "text"
      },
      "source": [
        "<a href=\"https://colab.research.google.com/github/Sir-Tobias/Java-Repository/blob/master/DT354DataScience3.ipynb\" target=\"_parent\"><img src=\"https://colab.research.google.com/assets/colab-badge.svg\" alt=\"Open In Colab\"/></a>"
      ]
    },
    {
      "cell_type": "markdown",
      "metadata": {
        "id": "_yP20U-PKskd"
      },
      "source": [
        "**This is used to label your code**\n",
        "hello world example\n",
        "\n",
        "*   Hello world example\n",
        "*   Valuable assignment\n",
        "\n",
        "\n"
      ]
    },
    {
      "cell_type": "code",
      "metadata": {
        "id": "z-U63kAvKVfb",
        "colab": {
          "base_uri": "https://localhost:8080/",
          "height": 52
        },
        "outputId": "011a7c0b-e974-4d93-870b-5a0637c4c300"
      },
      "source": [
        "mass = 25\n",
        "\n",
        "volume = 5\n",
        "\n",
        "density = mass/volume\n",
        "\n",
        "print(density)\n",
        "\n",
        "message = 'hello'\n",
        "person = 'bob'\n",
        "\n",
        "welcome = message + ' ' + person\n",
        "print(welcome)\n",
        "\n"
      ],
      "execution_count": null,
      "outputs": [
        {
          "output_type": "stream",
          "text": [
            "5.0\n",
            "hello bob\n"
          ],
          "name": "stdout"
        }
      ]
    },
    {
      "cell_type": "markdown",
      "metadata": {
        "id": "Nylni72KO1P4"
      },
      "source": [
        "Type Example"
      ]
    },
    {
      "cell_type": "code",
      "metadata": {
        "id": "uVtBA6xmO35X",
        "colab": {
          "base_uri": "https://localhost:8080/",
          "height": 69
        },
        "outputId": "8c36efb3-8329-4063-f1eb-a1e8ac1d40ec"
      },
      "source": [
        "isTodaySunday = False\n",
        "\n",
        "print(type(isTodaySunday)) # bool\n",
        "\n",
        "value_str = \"25\"\n",
        "\n",
        "print(type(value_str))\n",
        "print(type(int(value_str))) # forced type int because the value \"25\" can also be converted to an int"
      ],
      "execution_count": null,
      "outputs": [
        {
          "output_type": "stream",
          "text": [
            "<class 'bool'>\n",
            "<class 'str'>\n",
            "<class 'int'>\n"
          ],
          "name": "stdout"
        }
      ]
    },
    {
      "cell_type": "markdown",
      "metadata": {
        "id": "vPCxja9xQrul"
      },
      "source": [
        "Help command syntax\n",
        "\n",
        "\n",
        "*   Put a question mark infront of anything you dont understand\n",
        "*   ?len\n",
        "\n",
        "\n",
        "*   ?type\n",
        "*   ?print\n",
        "\n",
        "\n",
        "\n",
        "\n",
        "\n"
      ]
    },
    {
      "cell_type": "code",
      "metadata": {
        "id": "GSntrwjoQt_-"
      },
      "source": [
        "?len\n",
        "\n",
        "?type\n",
        "\n",
        "?print"
      ],
      "execution_count": null,
      "outputs": []
    },
    {
      "cell_type": "markdown",
      "metadata": {
        "id": "y8aWf15SSAxY"
      },
      "source": [
        "Python Lists"
      ]
    },
    {
      "cell_type": "code",
      "metadata": {
        "id": "Z8t7wDa1Seyu",
        "colab": {
          "base_uri": "https://localhost:8080/",
          "height": 104
        },
        "outputId": "92e89060-092f-4945-fb71-2a4957bd7084"
      },
      "source": [
        "a = \"is\"\n",
        "b = 2\n",
        "\n",
        "my_list = [\"my_list\", a, b]\n",
        "list_of_lists = [ my_list,[4,5]]\n",
        "list_of_different_items = [my_list,[4,5],8]\n",
        "print(\"list_of_different_items[0] .7\", list_of_different_items[0])\n",
        "print(\"list_of_different_items[1] .8\", list_of_different_items[1])\n",
        "print(\"list_of_different_items[2].9\", list_of_different_items[2])\n",
        "print(\"list_of_different_items[-1].10\", list_of_different_items[-1])\n",
        "print(\"list_of_different_items len .11\", len(list_of_different_items))"
      ],
      "execution_count": null,
      "outputs": [
        {
          "output_type": "stream",
          "text": [
            "list_of_different_items[0] .7 ['my_list', 'is', 2]\n",
            "list_of_different_items[1] .8 [4, 5]\n",
            "list_of_different_items[2].9 8\n",
            "list_of_different_items[-1].10 8\n",
            "list_of_different_items len .11 3\n"
          ],
          "name": "stdout"
        }
      ]
    },
    {
      "cell_type": "markdown",
      "metadata": {
        "id": "T3vWmKP9ZCCZ"
      },
      "source": [
        "ASK GOOGLE EXAMPLE"
      ]
    },
    {
      "cell_type": "code",
      "metadata": {
        "id": "Ig_n2qn8ZGM7",
        "colab": {
          "base_uri": "https://localhost:8080/",
          "height": 52
        },
        "outputId": "a61b4aa5-3086-44d6-e8e1-5aa0820996dc"
      },
      "source": [
        "town = \"Dublin and Derry\"\n",
        "print(town.lower())\n",
        "print(town.lower().count('d'))\n",
        "\n"
      ],
      "execution_count": null,
      "outputs": [
        {
          "output_type": "stream",
          "text": [
            "dublin and derry\n",
            "3\n"
          ],
          "name": "stdout"
        }
      ]
    },
    {
      "cell_type": "markdown",
      "metadata": {
        "id": "hejPDouzcUi-"
      },
      "source": [
        "Packages & Import"
      ]
    },
    {
      "cell_type": "code",
      "metadata": {
        "id": "UW-9enMucaMe"
      },
      "source": [
        "import math\n",
        "\n",
        "print(math.sqrt(4))\n",
        "\n",
        "from math import sin #You can import a specific function from the math libary\n",
        "print(sin(90))\n",
        "\n",
        "import math as m# Import as M because you do not have to type math each time\n",
        "print(m.sin(90))"
      ],
      "execution_count": null,
      "outputs": []
    },
    {
      "cell_type": "markdown",
      "metadata": {
        "id": "zPnISdzSdesx"
      },
      "source": [
        "Logic"
      ]
    },
    {
      "cell_type": "code",
      "metadata": {
        "id": "TyEiDkDpdiJ-"
      },
      "source": [
        "print(True == False)\n",
        "print(2*8! = -8)\n",
        "\n",
        "print('Ireland' == 'ireland')\n",
        "print(False == 0)\n"
      ],
      "execution_count": null,
      "outputs": []
    },
    {
      "cell_type": "markdown",
      "metadata": {
        "id": "UlLAy7LqfHXU"
      },
      "source": [
        "Control Flow"
      ]
    },
    {
      "cell_type": "code",
      "metadata": {
        "id": "Yi8mEw9VfJbc",
        "colab": {
          "base_uri": "https://localhost:8080/",
          "height": 35
        },
        "outputId": "1ea604f6-2c95-425f-af4c-e92663afcdba"
      },
      "source": [
        "if 9 > 10:\n",
        "    print(\"9 is greater than 10\")\n",
        "elif 9 == 10:\n",
        "    print(\"9 is equal to 10\")\n",
        "else:\n",
        "    print(\"9 is lesser than 10\")"
      ],
      "execution_count": null,
      "outputs": [
        {
          "output_type": "stream",
          "text": [
            "9 is lesser than 10\n"
          ],
          "name": "stdout"
        }
      ]
    },
    {
      "cell_type": "markdown",
      "metadata": {
        "id": "stIEKoc-M-SX"
      },
      "source": [
        "WEEK 3"
      ]
    },
    {
      "cell_type": "code",
      "metadata": {
        "id": "1wKbvT3sNAue",
        "colab": {
          "base_uri": "https://localhost:8080/"
        },
        "outputId": "48f4b36b-5767-47f8-b796-c5cf0db7a005"
      },
      "source": [
        "x = 1\n",
        "while x <3: #That has a condition that must be met \n",
        "    print(x)\n",
        "    x += 1\n",
        "print('>outside break')\n",
        "\n",
        "while True: #infinite while loop that must be supported through a break\n",
        "    print(x)\n",
        "    x += 1\n",
        "    print (x)\n",
        "    if x> 6:\n",
        "      break\n",
        "print('outside')"
      ],
      "execution_count": null,
      "outputs": [
        {
          "output_type": "stream",
          "text": [
            "1\n",
            "2\n",
            ">outside break\n",
            "3\n",
            "4\n",
            "4\n",
            "5\n",
            "5\n",
            "6\n",
            "6\n",
            "7\n",
            "outside\n"
          ],
          "name": "stdout"
        }
      ]
    },
    {
      "cell_type": "markdown",
      "metadata": {
        "id": "Ir-SBL2kO8-L"
      },
      "source": [
        "Defining your own functions"
      ]
    },
    {
      "cell_type": "code",
      "metadata": {
        "id": "CnsU9KuFPsII",
        "colab": {
          "base_uri": "https://localhost:8080/",
          "height": 235
        },
        "outputId": "8ff7a735-8be5-47d7-80b8-cb29cbb9fff4"
      },
      "source": [
        "def sum_fr(a,b):\n",
        "  c = a + b\n",
        "  return c\n",
        "\n",
        "print(\n",
        "     sum_fn(\n",
        "         1, sum_fn(2)\n",
        "        )\n",
        ")\n",
        "\n",
        "print(\n",
        "    sum_fn(\n",
        "        sum_fn(1,2), 3\n",
        "        )\n",
        "    )\n",
        "\n",
        "print(\n",
        "    sum_fn(\n",
        "        sum_fn(1,2), sum_fn(2,2)\n",
        "        )\n",
        "    )\n"
      ],
      "execution_count": null,
      "outputs": [
        {
          "output_type": "error",
          "ename": "NameError",
          "evalue": "ignored",
          "traceback": [
            "\u001b[0;31m---------------------------------------------------------------------------\u001b[0m",
            "\u001b[0;31mNameError\u001b[0m                                 Traceback (most recent call last)",
            "\u001b[0;32m<ipython-input-29-194ba97791d8>\u001b[0m in \u001b[0;36m<module>\u001b[0;34m()\u001b[0m\n\u001b[1;32m      4\u001b[0m \u001b[0;34m\u001b[0m\u001b[0m\n\u001b[1;32m      5\u001b[0m print(\n\u001b[0;32m----> 6\u001b[0;31m      sum_fn(\n\u001b[0m\u001b[1;32m      7\u001b[0m          \u001b[0;36m1\u001b[0m\u001b[0;34m,\u001b[0m \u001b[0msum_fn\u001b[0m\u001b[0;34m(\u001b[0m\u001b[0;36m2\u001b[0m\u001b[0;34m)\u001b[0m\u001b[0;34m\u001b[0m\u001b[0;34m\u001b[0m\u001b[0m\n\u001b[1;32m      8\u001b[0m         )\n",
            "\u001b[0;31mNameError\u001b[0m: name 'sum_fn' is not defined"
          ]
        }
      ]
    },
    {
      "cell_type": "markdown",
      "metadata": {
        "id": "vlAU940kVgDf"
      },
      "source": [
        "DICTIONARY"
      ]
    },
    {
      "cell_type": "code",
      "metadata": {
        "id": "BlejkmcKVlGz",
        "colab": {
          "base_uri": "https://localhost:8080/"
        },
        "outputId": "49b847e6-9479-46d0-8505-5b3ea151a486"
      },
      "source": [
        "irish_pop_dict = {'Dublin': 1345602, 'Antrim': 617345, 'Cork': 546709}\n",
        "print(irish_pop_dict['Dublin'])\n",
        "print(irish_pop_dict.keys())\n",
        "print(irish_pop_dict.values())\n",
        "print(irish_pop_dict.items())\n",
        "print('Dublin' in irish_pop_dict)\n",
        "print('Down' in irish_pop_dict)\n",
        "irish_pop_dict['Down'] = 342183\n",
        "print(irish_pop_dict)"
      ],
      "execution_count": null,
      "outputs": [
        {
          "output_type": "stream",
          "text": [
            "1345602\n",
            "dict_keys(['Dublin', 'Antrim', 'Cork'])\n",
            "dict_values([1345602, 617345, 546709])\n",
            "dict_items([('Dublin', 1345602), ('Antrim', 617345), ('Cork', 546709)])\n",
            "True\n",
            "False\n",
            "{'Dublin': 1345602, 'Antrim': 617345, 'Cork': 546709, 'Down': 342183}\n"
          ],
          "name": "stdout"
        }
      ]
    },
    {
      "cell_type": "markdown",
      "metadata": {
        "id": "_WPtH3qfXWlM"
      },
      "source": [
        "LOOPING OVER THE DICTIONARY"
      ]
    },
    {
      "cell_type": "code",
      "metadata": {
        "id": "ASZ8cqChXfJX",
        "colab": {
          "base_uri": "https://localhost:8080/"
        },
        "outputId": "99851a2a-aeed-4151-a1d4-8151c6c032d1"
      },
      "source": [
        "d = {'one': 1, 'two': 2}\n",
        "\n",
        "for k, v in d.items():\n",
        "  print(k,v)"
      ],
      "execution_count": null,
      "outputs": [
        {
          "output_type": "stream",
          "text": [
            "one 1\n",
            "two 2\n"
          ],
          "name": "stdout"
        }
      ]
    },
    {
      "cell_type": "markdown",
      "metadata": {
        "id": "gRbPJWh8YWec"
      },
      "source": [
        "Practice Dictionary"
      ]
    },
    {
      "cell_type": "code",
      "metadata": {
        "id": "jOrzzRVkYbC4"
      },
      "source": [
        "mycountries_dict = {}\n",
        "\n",
        "mycountries_dict[\"Ireland\"] = ['Dublin', 'Meath']\n",
        "mycountries_dict[\"France\"] = ['Paris', 'Lyon']\n",
        "print(mycountries_dict)\n",
        "#Applying a function\n",
        "mycountries_dict[\"Ireland\"].append('Cork')\n",
        "print(mycountries_dict)\n",
        "for a, c in mycountries_dict.items():\n",
        "  print(a,c)\n",
        "\n"
      ],
      "execution_count": null,
      "outputs": []
    },
    {
      "cell_type": "markdown",
      "metadata": {
        "id": "bsJbbj45c2re"
      },
      "source": [
        "ITER METHODS"
      ]
    },
    {
      "cell_type": "code",
      "metadata": {
        "id": "EmqXWOm5c5Ch"
      },
      "source": [
        "for it in 'cat'# creates an iter method in the background"
      ],
      "execution_count": null,
      "outputs": []
    },
    {
      "cell_type": "markdown",
      "metadata": {
        "id": "axK6AF29fwks"
      },
      "source": [
        "ZIP METHOD"
      ]
    },
    {
      "cell_type": "code",
      "metadata": {
        "id": "XYMv5vaCf1i1",
        "colab": {
          "base_uri": "https://localhost:8080/"
        },
        "outputId": "f7b45c8c-6a70-4cc9-d779-8cab30140d7a"
      },
      "source": [
        "joined = zip([1,2,3], [4,5,6])#packing or zipping\n",
        "for x, y in joined:\n",
        "  print(x,y)\n",
        "\n",
        "  print(*zip([1,2,3], [4,5,6]))\n",
        "  l1,l2 = zip(*zip([1,2,3], [4,5,6]))\n",
        "  print(l1,l2)"
      ],
      "execution_count": null,
      "outputs": [
        {
          "output_type": "stream",
          "text": [
            "1 4\n",
            "(1, 4) (2, 5) (3, 6)\n",
            "(1, 2, 3) (4, 5, 6)\n",
            "2 5\n",
            "(1, 4) (2, 5) (3, 6)\n",
            "(1, 2, 3) (4, 5, 6)\n",
            "3 6\n",
            "(1, 4) (2, 5) (3, 6)\n",
            "(1, 2, 3) (4, 5, 6)\n"
          ],
          "name": "stdout"
        }
      ]
    },
    {
      "cell_type": "markdown",
      "metadata": {
        "id": "TQzOaVyda84V"
      },
      "source": [
        "List Comprehensions"
      ]
    },
    {
      "cell_type": "code",
      "metadata": {
        "id": "HCAu6tuvbIpR"
      },
      "source": [
        "def firstn(n):\n",
        "  num= 0\n",
        "  while num< n:\n",
        "    yield num\n",
        "    num+= 1"
      ],
      "execution_count": null,
      "outputs": []
    },
    {
      "cell_type": "markdown",
      "metadata": {
        "id": "dLxEuuGBqLIY"
      },
      "source": [
        "WEEK 4"
      ]
    },
    {
      "cell_type": "code",
      "metadata": {
        "id": "g0GwtqsAqNXW"
      },
      "source": [
        "def download_save_tweet_data():\n",
        "  if"
      ],
      "execution_count": null,
      "outputs": []
    },
    {
      "cell_type": "markdown",
      "metadata": {
        "id": "sA519vC2ZUkC"
      },
      "source": [
        "WEEK 5 WORK"
      ]
    },
    {
      "cell_type": "code",
      "metadata": {
        "id": "QhqM5EbUZX9c",
        "colab": {
          "base_uri": "https://localhost:8080/",
          "height": 783
        },
        "outputId": "39894632-a440-4d05-971e-9b7872a04f1c"
      },
      "source": [
        "names = ['United States', 'Australia', 'Japan', 'India', 'Russia', 'Morocco', 'Egypt']\n",
        "dr =[True, False, False, False, True, True, True]\n",
        "cpc = [809, 731, 588, 18, 200, 70, 45]\n",
        "\n",
        "my_dict = {'country': names, 'drives_right': dr, 'cars_per_cap': cpc}\n",
        "import pandas as pd\n",
        "cars = pd.DataFrame(my_dict)\n",
        "\n",
        "row_labels= ['US', 'AUS', 'JAP', 'IN', 'RU', 'MOR', 'EG']\n",
        "cars.index = row_labels\n",
        "print(cars)\n",
        "cars.to_csv('cars.csv')# write as csv\n",
        "\n",
        "print(cars['country'])\n",
        "print(type(cars['country']))# Series\n",
        "print(cars[['country']])\n",
        "print(type(cars[['country']]))# DataFrame•\n",
        "print(cars[['country', 'cars_per_cap']]) # can do this, unlike series\n",
        "\n",
        "display(cars[1:3]) #select rows\n",
        "#print(cars[1:3]) #select rows\n",
        "display(cars[1:3][['country', 'drives_right']]) #select rows\n"
      ],
      "execution_count": null,
      "outputs": [
        {
          "output_type": "stream",
          "text": [
            "           country  drives_right  cars_per_cap\n",
            "US   United States          True           809\n",
            "AUS      Australia         False           731\n",
            "JAP          Japan         False           588\n",
            "IN           India         False            18\n",
            "RU          Russia          True           200\n",
            "MOR        Morocco          True            70\n",
            "EG           Egypt          True            45\n",
            "US     United States\n",
            "AUS        Australia\n",
            "JAP            Japan\n",
            "IN             India\n",
            "RU            Russia\n",
            "MOR          Morocco\n",
            "EG             Egypt\n",
            "Name: country, dtype: object\n",
            "<class 'pandas.core.series.Series'>\n",
            "           country\n",
            "US   United States\n",
            "AUS      Australia\n",
            "JAP          Japan\n",
            "IN           India\n",
            "RU          Russia\n",
            "MOR        Morocco\n",
            "EG           Egypt\n",
            "<class 'pandas.core.frame.DataFrame'>\n",
            "           country  cars_per_cap\n",
            "US   United States           809\n",
            "AUS      Australia           731\n",
            "JAP          Japan           588\n",
            "IN           India            18\n",
            "RU          Russia           200\n",
            "MOR        Morocco            70\n",
            "EG           Egypt            45\n"
          ],
          "name": "stdout"
        },
        {
          "output_type": "display_data",
          "data": {
            "text/html": [
              "<div>\n",
              "<style scoped>\n",
              "    .dataframe tbody tr th:only-of-type {\n",
              "        vertical-align: middle;\n",
              "    }\n",
              "\n",
              "    .dataframe tbody tr th {\n",
              "        vertical-align: top;\n",
              "    }\n",
              "\n",
              "    .dataframe thead th {\n",
              "        text-align: right;\n",
              "    }\n",
              "</style>\n",
              "<table border=\"1\" class=\"dataframe\">\n",
              "  <thead>\n",
              "    <tr style=\"text-align: right;\">\n",
              "      <th></th>\n",
              "      <th>country</th>\n",
              "      <th>drives_right</th>\n",
              "      <th>cars_per_cap</th>\n",
              "    </tr>\n",
              "  </thead>\n",
              "  <tbody>\n",
              "    <tr>\n",
              "      <th>AUS</th>\n",
              "      <td>Australia</td>\n",
              "      <td>False</td>\n",
              "      <td>731</td>\n",
              "    </tr>\n",
              "    <tr>\n",
              "      <th>JAP</th>\n",
              "      <td>Japan</td>\n",
              "      <td>False</td>\n",
              "      <td>588</td>\n",
              "    </tr>\n",
              "  </tbody>\n",
              "</table>\n",
              "</div>"
            ],
            "text/plain": [
              "       country  drives_right  cars_per_cap\n",
              "AUS  Australia         False           731\n",
              "JAP      Japan         False           588"
            ]
          },
          "metadata": {
            "tags": []
          }
        },
        {
          "output_type": "display_data",
          "data": {
            "text/html": [
              "<div>\n",
              "<style scoped>\n",
              "    .dataframe tbody tr th:only-of-type {\n",
              "        vertical-align: middle;\n",
              "    }\n",
              "\n",
              "    .dataframe tbody tr th {\n",
              "        vertical-align: top;\n",
              "    }\n",
              "\n",
              "    .dataframe thead th {\n",
              "        text-align: right;\n",
              "    }\n",
              "</style>\n",
              "<table border=\"1\" class=\"dataframe\">\n",
              "  <thead>\n",
              "    <tr style=\"text-align: right;\">\n",
              "      <th></th>\n",
              "      <th>country</th>\n",
              "      <th>drives_right</th>\n",
              "    </tr>\n",
              "  </thead>\n",
              "  <tbody>\n",
              "    <tr>\n",
              "      <th>AUS</th>\n",
              "      <td>Australia</td>\n",
              "      <td>False</td>\n",
              "    </tr>\n",
              "    <tr>\n",
              "      <th>JAP</th>\n",
              "      <td>Japan</td>\n",
              "      <td>False</td>\n",
              "    </tr>\n",
              "  </tbody>\n",
              "</table>\n",
              "</div>"
            ],
            "text/plain": [
              "       country  drives_right\n",
              "AUS  Australia         False\n",
              "JAP      Japan         False"
            ]
          },
          "metadata": {
            "tags": []
          }
        }
      ]
    },
    {
      "cell_type": "markdown",
      "metadata": {
        "id": "bDlZIJIBdAJE"
      },
      "source": [
        "Selecting Index"
      ]
    },
    {
      "cell_type": "code",
      "metadata": {
        "id": "bNN1yRbHdC8C",
        "colab": {
          "base_uri": "https://localhost:8080/",
          "height": 585
        },
        "outputId": "2bcdbaab-44b6-4012-afb5-45ba80a14f25"
      },
      "source": [
        "display(cars.loc['US'])  # Series•\n",
        "display(cars.loc[['US']])  # DataFrame•\n",
        "display(cars.loc[['US', 'AUS']])  # DataFrame, only selected rows•\n",
        "display(cars.loc[['US', 'AUS'], ['country', 'cars_per_cap']])  # DataFrame, selected rows & columns•\n",
        "display(cars.loc[:, ['country', 'cars_per_cap']])  # DataFrame, only selected column"
      ],
      "execution_count": null,
      "outputs": [
        {
          "output_type": "display_data",
          "data": {
            "text/plain": [
              "country         United States\n",
              "drives_right             True\n",
              "cars_per_cap              809\n",
              "Name: US, dtype: object"
            ]
          },
          "metadata": {
            "tags": []
          }
        },
        {
          "output_type": "display_data",
          "data": {
            "text/html": [
              "<div>\n",
              "<style scoped>\n",
              "    .dataframe tbody tr th:only-of-type {\n",
              "        vertical-align: middle;\n",
              "    }\n",
              "\n",
              "    .dataframe tbody tr th {\n",
              "        vertical-align: top;\n",
              "    }\n",
              "\n",
              "    .dataframe thead th {\n",
              "        text-align: right;\n",
              "    }\n",
              "</style>\n",
              "<table border=\"1\" class=\"dataframe\">\n",
              "  <thead>\n",
              "    <tr style=\"text-align: right;\">\n",
              "      <th></th>\n",
              "      <th>country</th>\n",
              "      <th>drives_right</th>\n",
              "      <th>cars_per_cap</th>\n",
              "    </tr>\n",
              "  </thead>\n",
              "  <tbody>\n",
              "    <tr>\n",
              "      <th>US</th>\n",
              "      <td>United States</td>\n",
              "      <td>True</td>\n",
              "      <td>809</td>\n",
              "    </tr>\n",
              "  </tbody>\n",
              "</table>\n",
              "</div>"
            ],
            "text/plain": [
              "          country  drives_right  cars_per_cap\n",
              "US  United States          True           809"
            ]
          },
          "metadata": {
            "tags": []
          }
        },
        {
          "output_type": "display_data",
          "data": {
            "text/html": [
              "<div>\n",
              "<style scoped>\n",
              "    .dataframe tbody tr th:only-of-type {\n",
              "        vertical-align: middle;\n",
              "    }\n",
              "\n",
              "    .dataframe tbody tr th {\n",
              "        vertical-align: top;\n",
              "    }\n",
              "\n",
              "    .dataframe thead th {\n",
              "        text-align: right;\n",
              "    }\n",
              "</style>\n",
              "<table border=\"1\" class=\"dataframe\">\n",
              "  <thead>\n",
              "    <tr style=\"text-align: right;\">\n",
              "      <th></th>\n",
              "      <th>country</th>\n",
              "      <th>drives_right</th>\n",
              "      <th>cars_per_cap</th>\n",
              "    </tr>\n",
              "  </thead>\n",
              "  <tbody>\n",
              "    <tr>\n",
              "      <th>US</th>\n",
              "      <td>United States</td>\n",
              "      <td>True</td>\n",
              "      <td>809</td>\n",
              "    </tr>\n",
              "    <tr>\n",
              "      <th>AUS</th>\n",
              "      <td>Australia</td>\n",
              "      <td>False</td>\n",
              "      <td>731</td>\n",
              "    </tr>\n",
              "  </tbody>\n",
              "</table>\n",
              "</div>"
            ],
            "text/plain": [
              "           country  drives_right  cars_per_cap\n",
              "US   United States          True           809\n",
              "AUS      Australia         False           731"
            ]
          },
          "metadata": {
            "tags": []
          }
        },
        {
          "output_type": "display_data",
          "data": {
            "text/html": [
              "<div>\n",
              "<style scoped>\n",
              "    .dataframe tbody tr th:only-of-type {\n",
              "        vertical-align: middle;\n",
              "    }\n",
              "\n",
              "    .dataframe tbody tr th {\n",
              "        vertical-align: top;\n",
              "    }\n",
              "\n",
              "    .dataframe thead th {\n",
              "        text-align: right;\n",
              "    }\n",
              "</style>\n",
              "<table border=\"1\" class=\"dataframe\">\n",
              "  <thead>\n",
              "    <tr style=\"text-align: right;\">\n",
              "      <th></th>\n",
              "      <th>country</th>\n",
              "      <th>cars_per_cap</th>\n",
              "    </tr>\n",
              "  </thead>\n",
              "  <tbody>\n",
              "    <tr>\n",
              "      <th>US</th>\n",
              "      <td>United States</td>\n",
              "      <td>809</td>\n",
              "    </tr>\n",
              "    <tr>\n",
              "      <th>AUS</th>\n",
              "      <td>Australia</td>\n",
              "      <td>731</td>\n",
              "    </tr>\n",
              "  </tbody>\n",
              "</table>\n",
              "</div>"
            ],
            "text/plain": [
              "           country  cars_per_cap\n",
              "US   United States           809\n",
              "AUS      Australia           731"
            ]
          },
          "metadata": {
            "tags": []
          }
        },
        {
          "output_type": "display_data",
          "data": {
            "text/html": [
              "<div>\n",
              "<style scoped>\n",
              "    .dataframe tbody tr th:only-of-type {\n",
              "        vertical-align: middle;\n",
              "    }\n",
              "\n",
              "    .dataframe tbody tr th {\n",
              "        vertical-align: top;\n",
              "    }\n",
              "\n",
              "    .dataframe thead th {\n",
              "        text-align: right;\n",
              "    }\n",
              "</style>\n",
              "<table border=\"1\" class=\"dataframe\">\n",
              "  <thead>\n",
              "    <tr style=\"text-align: right;\">\n",
              "      <th></th>\n",
              "      <th>country</th>\n",
              "      <th>cars_per_cap</th>\n",
              "    </tr>\n",
              "  </thead>\n",
              "  <tbody>\n",
              "    <tr>\n",
              "      <th>US</th>\n",
              "      <td>United States</td>\n",
              "      <td>809</td>\n",
              "    </tr>\n",
              "    <tr>\n",
              "      <th>AUS</th>\n",
              "      <td>Australia</td>\n",
              "      <td>731</td>\n",
              "    </tr>\n",
              "    <tr>\n",
              "      <th>JAP</th>\n",
              "      <td>Japan</td>\n",
              "      <td>588</td>\n",
              "    </tr>\n",
              "    <tr>\n",
              "      <th>IN</th>\n",
              "      <td>India</td>\n",
              "      <td>18</td>\n",
              "    </tr>\n",
              "    <tr>\n",
              "      <th>RU</th>\n",
              "      <td>Russia</td>\n",
              "      <td>200</td>\n",
              "    </tr>\n",
              "    <tr>\n",
              "      <th>MOR</th>\n",
              "      <td>Morocco</td>\n",
              "      <td>70</td>\n",
              "    </tr>\n",
              "    <tr>\n",
              "      <th>EG</th>\n",
              "      <td>Egypt</td>\n",
              "      <td>45</td>\n",
              "    </tr>\n",
              "  </tbody>\n",
              "</table>\n",
              "</div>"
            ],
            "text/plain": [
              "           country  cars_per_cap\n",
              "US   United States           809\n",
              "AUS      Australia           731\n",
              "JAP          Japan           588\n",
              "IN           India            18\n",
              "RU          Russia           200\n",
              "MOR        Morocco            70\n",
              "EG           Egypt            45"
            ]
          },
          "metadata": {
            "tags": []
          }
        }
      ]
    },
    {
      "cell_type": "markdown",
      "metadata": {
        "id": "nLbdLvwWec9g"
      },
      "source": [
        "Using iloc to select index"
      ]
    },
    {
      "cell_type": "code",
      "metadata": {
        "id": "Hk8OQhWdei_q",
        "colab": {
          "base_uri": "https://localhost:8080/",
          "height": 492
        },
        "outputId": "b376d3ed-2eb0-4d0c-f9d7-9b3b26e3f1fa"
      },
      "source": [
        "display(cars.iloc[0])  # Series•\n",
        "display(cars.iloc[[0]])  # DataFrame•\n",
        "display(cars.iloc[[0, 1]])  # DataFrame, only selected rows•\n",
        "display(cars.iloc[[0, 1], [0, 1]])  # DataFrame, selected rows & columns•\n",
        "display(cars.iloc[2:6, [0, 1]])  # DataFrame, only selected columns"
      ],
      "execution_count": null,
      "outputs": [
        {
          "output_type": "display_data",
          "data": {
            "text/plain": [
              "country         United States\n",
              "drives_right             True\n",
              "cars_per_cap              809\n",
              "Name: US, dtype: object"
            ]
          },
          "metadata": {
            "tags": []
          }
        },
        {
          "output_type": "display_data",
          "data": {
            "text/html": [
              "<div>\n",
              "<style scoped>\n",
              "    .dataframe tbody tr th:only-of-type {\n",
              "        vertical-align: middle;\n",
              "    }\n",
              "\n",
              "    .dataframe tbody tr th {\n",
              "        vertical-align: top;\n",
              "    }\n",
              "\n",
              "    .dataframe thead th {\n",
              "        text-align: right;\n",
              "    }\n",
              "</style>\n",
              "<table border=\"1\" class=\"dataframe\">\n",
              "  <thead>\n",
              "    <tr style=\"text-align: right;\">\n",
              "      <th></th>\n",
              "      <th>country</th>\n",
              "      <th>drives_right</th>\n",
              "      <th>cars_per_cap</th>\n",
              "    </tr>\n",
              "  </thead>\n",
              "  <tbody>\n",
              "    <tr>\n",
              "      <th>US</th>\n",
              "      <td>United States</td>\n",
              "      <td>True</td>\n",
              "      <td>809</td>\n",
              "    </tr>\n",
              "  </tbody>\n",
              "</table>\n",
              "</div>"
            ],
            "text/plain": [
              "          country  drives_right  cars_per_cap\n",
              "US  United States          True           809"
            ]
          },
          "metadata": {
            "tags": []
          }
        },
        {
          "output_type": "display_data",
          "data": {
            "text/html": [
              "<div>\n",
              "<style scoped>\n",
              "    .dataframe tbody tr th:only-of-type {\n",
              "        vertical-align: middle;\n",
              "    }\n",
              "\n",
              "    .dataframe tbody tr th {\n",
              "        vertical-align: top;\n",
              "    }\n",
              "\n",
              "    .dataframe thead th {\n",
              "        text-align: right;\n",
              "    }\n",
              "</style>\n",
              "<table border=\"1\" class=\"dataframe\">\n",
              "  <thead>\n",
              "    <tr style=\"text-align: right;\">\n",
              "      <th></th>\n",
              "      <th>country</th>\n",
              "      <th>drives_right</th>\n",
              "      <th>cars_per_cap</th>\n",
              "    </tr>\n",
              "  </thead>\n",
              "  <tbody>\n",
              "    <tr>\n",
              "      <th>US</th>\n",
              "      <td>United States</td>\n",
              "      <td>True</td>\n",
              "      <td>809</td>\n",
              "    </tr>\n",
              "    <tr>\n",
              "      <th>AUS</th>\n",
              "      <td>Australia</td>\n",
              "      <td>False</td>\n",
              "      <td>731</td>\n",
              "    </tr>\n",
              "  </tbody>\n",
              "</table>\n",
              "</div>"
            ],
            "text/plain": [
              "           country  drives_right  cars_per_cap\n",
              "US   United States          True           809\n",
              "AUS      Australia         False           731"
            ]
          },
          "metadata": {
            "tags": []
          }
        },
        {
          "output_type": "display_data",
          "data": {
            "text/html": [
              "<div>\n",
              "<style scoped>\n",
              "    .dataframe tbody tr th:only-of-type {\n",
              "        vertical-align: middle;\n",
              "    }\n",
              "\n",
              "    .dataframe tbody tr th {\n",
              "        vertical-align: top;\n",
              "    }\n",
              "\n",
              "    .dataframe thead th {\n",
              "        text-align: right;\n",
              "    }\n",
              "</style>\n",
              "<table border=\"1\" class=\"dataframe\">\n",
              "  <thead>\n",
              "    <tr style=\"text-align: right;\">\n",
              "      <th></th>\n",
              "      <th>country</th>\n",
              "      <th>drives_right</th>\n",
              "    </tr>\n",
              "  </thead>\n",
              "  <tbody>\n",
              "    <tr>\n",
              "      <th>US</th>\n",
              "      <td>United States</td>\n",
              "      <td>True</td>\n",
              "    </tr>\n",
              "    <tr>\n",
              "      <th>AUS</th>\n",
              "      <td>Australia</td>\n",
              "      <td>False</td>\n",
              "    </tr>\n",
              "  </tbody>\n",
              "</table>\n",
              "</div>"
            ],
            "text/plain": [
              "           country  drives_right\n",
              "US   United States          True\n",
              "AUS      Australia         False"
            ]
          },
          "metadata": {
            "tags": []
          }
        },
        {
          "output_type": "display_data",
          "data": {
            "text/html": [
              "<div>\n",
              "<style scoped>\n",
              "    .dataframe tbody tr th:only-of-type {\n",
              "        vertical-align: middle;\n",
              "    }\n",
              "\n",
              "    .dataframe tbody tr th {\n",
              "        vertical-align: top;\n",
              "    }\n",
              "\n",
              "    .dataframe thead th {\n",
              "        text-align: right;\n",
              "    }\n",
              "</style>\n",
              "<table border=\"1\" class=\"dataframe\">\n",
              "  <thead>\n",
              "    <tr style=\"text-align: right;\">\n",
              "      <th></th>\n",
              "      <th>country</th>\n",
              "      <th>drives_right</th>\n",
              "    </tr>\n",
              "  </thead>\n",
              "  <tbody>\n",
              "    <tr>\n",
              "      <th>JAP</th>\n",
              "      <td>Japan</td>\n",
              "      <td>False</td>\n",
              "    </tr>\n",
              "    <tr>\n",
              "      <th>IN</th>\n",
              "      <td>India</td>\n",
              "      <td>False</td>\n",
              "    </tr>\n",
              "    <tr>\n",
              "      <th>RU</th>\n",
              "      <td>Russia</td>\n",
              "      <td>True</td>\n",
              "    </tr>\n",
              "    <tr>\n",
              "      <th>MOR</th>\n",
              "      <td>Morocco</td>\n",
              "      <td>True</td>\n",
              "    </tr>\n",
              "  </tbody>\n",
              "</table>\n",
              "</div>"
            ],
            "text/plain": [
              "     country  drives_right\n",
              "JAP    Japan         False\n",
              "IN     India         False\n",
              "RU    Russia          True\n",
              "MOR  Morocco          True"
            ]
          },
          "metadata": {
            "tags": []
          }
        }
      ]
    },
    {
      "cell_type": "markdown",
      "metadata": {
        "id": "KCkeUHJNgoXe"
      },
      "source": [
        "Filtering DataFrame"
      ]
    },
    {
      "cell_type": "code",
      "metadata": {
        "id": "bF3nXVDugsKe",
        "colab": {
          "base_uri": "https://localhost:8080/",
          "height": 590
        },
        "outputId": "a3847c89-a138-49db-909f-79cfbfc77443"
      },
      "source": [
        "dr = cars['drives_right']\n",
        "display(dr)\n",
        "\n",
        "sel= cars[dr]\n",
        "display(sel)\n",
        "\n",
        "display(cars[cars['drives_right']])# one line version\n",
        "\n",
        "lim= cars['cars_per_cap']>500# select bool series•\n",
        "sel= cars[lim]# filter cars with condition•\n",
        "display(sel)"
      ],
      "execution_count": null,
      "outputs": [
        {
          "output_type": "display_data",
          "data": {
            "text/plain": [
              "US      True\n",
              "AUS    False\n",
              "JAP    False\n",
              "IN     False\n",
              "RU      True\n",
              "MOR     True\n",
              "EG      True\n",
              "Name: drives_right, dtype: bool"
            ]
          },
          "metadata": {
            "tags": []
          }
        },
        {
          "output_type": "display_data",
          "data": {
            "text/html": [
              "<div>\n",
              "<style scoped>\n",
              "    .dataframe tbody tr th:only-of-type {\n",
              "        vertical-align: middle;\n",
              "    }\n",
              "\n",
              "    .dataframe tbody tr th {\n",
              "        vertical-align: top;\n",
              "    }\n",
              "\n",
              "    .dataframe thead th {\n",
              "        text-align: right;\n",
              "    }\n",
              "</style>\n",
              "<table border=\"1\" class=\"dataframe\">\n",
              "  <thead>\n",
              "    <tr style=\"text-align: right;\">\n",
              "      <th></th>\n",
              "      <th>country</th>\n",
              "      <th>drives_right</th>\n",
              "      <th>cars_per_cap</th>\n",
              "    </tr>\n",
              "  </thead>\n",
              "  <tbody>\n",
              "    <tr>\n",
              "      <th>US</th>\n",
              "      <td>United States</td>\n",
              "      <td>True</td>\n",
              "      <td>809</td>\n",
              "    </tr>\n",
              "    <tr>\n",
              "      <th>RU</th>\n",
              "      <td>Russia</td>\n",
              "      <td>True</td>\n",
              "      <td>200</td>\n",
              "    </tr>\n",
              "    <tr>\n",
              "      <th>MOR</th>\n",
              "      <td>Morocco</td>\n",
              "      <td>True</td>\n",
              "      <td>70</td>\n",
              "    </tr>\n",
              "    <tr>\n",
              "      <th>EG</th>\n",
              "      <td>Egypt</td>\n",
              "      <td>True</td>\n",
              "      <td>45</td>\n",
              "    </tr>\n",
              "  </tbody>\n",
              "</table>\n",
              "</div>"
            ],
            "text/plain": [
              "           country  drives_right  cars_per_cap\n",
              "US   United States          True           809\n",
              "RU          Russia          True           200\n",
              "MOR        Morocco          True            70\n",
              "EG           Egypt          True            45"
            ]
          },
          "metadata": {
            "tags": []
          }
        },
        {
          "output_type": "display_data",
          "data": {
            "text/html": [
              "<div>\n",
              "<style scoped>\n",
              "    .dataframe tbody tr th:only-of-type {\n",
              "        vertical-align: middle;\n",
              "    }\n",
              "\n",
              "    .dataframe tbody tr th {\n",
              "        vertical-align: top;\n",
              "    }\n",
              "\n",
              "    .dataframe thead th {\n",
              "        text-align: right;\n",
              "    }\n",
              "</style>\n",
              "<table border=\"1\" class=\"dataframe\">\n",
              "  <thead>\n",
              "    <tr style=\"text-align: right;\">\n",
              "      <th></th>\n",
              "      <th>country</th>\n",
              "      <th>drives_right</th>\n",
              "      <th>cars_per_cap</th>\n",
              "    </tr>\n",
              "  </thead>\n",
              "  <tbody>\n",
              "    <tr>\n",
              "      <th>US</th>\n",
              "      <td>United States</td>\n",
              "      <td>True</td>\n",
              "      <td>809</td>\n",
              "    </tr>\n",
              "    <tr>\n",
              "      <th>RU</th>\n",
              "      <td>Russia</td>\n",
              "      <td>True</td>\n",
              "      <td>200</td>\n",
              "    </tr>\n",
              "    <tr>\n",
              "      <th>MOR</th>\n",
              "      <td>Morocco</td>\n",
              "      <td>True</td>\n",
              "      <td>70</td>\n",
              "    </tr>\n",
              "    <tr>\n",
              "      <th>EG</th>\n",
              "      <td>Egypt</td>\n",
              "      <td>True</td>\n",
              "      <td>45</td>\n",
              "    </tr>\n",
              "  </tbody>\n",
              "</table>\n",
              "</div>"
            ],
            "text/plain": [
              "           country  drives_right  cars_per_cap\n",
              "US   United States          True           809\n",
              "RU          Russia          True           200\n",
              "MOR        Morocco          True            70\n",
              "EG           Egypt          True            45"
            ]
          },
          "metadata": {
            "tags": []
          }
        },
        {
          "output_type": "display_data",
          "data": {
            "text/html": [
              "<div>\n",
              "<style scoped>\n",
              "    .dataframe tbody tr th:only-of-type {\n",
              "        vertical-align: middle;\n",
              "    }\n",
              "\n",
              "    .dataframe tbody tr th {\n",
              "        vertical-align: top;\n",
              "    }\n",
              "\n",
              "    .dataframe thead th {\n",
              "        text-align: right;\n",
              "    }\n",
              "</style>\n",
              "<table border=\"1\" class=\"dataframe\">\n",
              "  <thead>\n",
              "    <tr style=\"text-align: right;\">\n",
              "      <th></th>\n",
              "      <th>country</th>\n",
              "      <th>drives_right</th>\n",
              "      <th>cars_per_cap</th>\n",
              "    </tr>\n",
              "  </thead>\n",
              "  <tbody>\n",
              "    <tr>\n",
              "      <th>US</th>\n",
              "      <td>United States</td>\n",
              "      <td>True</td>\n",
              "      <td>809</td>\n",
              "    </tr>\n",
              "    <tr>\n",
              "      <th>AUS</th>\n",
              "      <td>Australia</td>\n",
              "      <td>False</td>\n",
              "      <td>731</td>\n",
              "    </tr>\n",
              "    <tr>\n",
              "      <th>JAP</th>\n",
              "      <td>Japan</td>\n",
              "      <td>False</td>\n",
              "      <td>588</td>\n",
              "    </tr>\n",
              "  </tbody>\n",
              "</table>\n",
              "</div>"
            ],
            "text/plain": [
              "           country  drives_right  cars_per_cap\n",
              "US   United States          True           809\n",
              "AUS      Australia         False           731\n",
              "JAP          Japan         False           588"
            ]
          },
          "metadata": {
            "tags": []
          }
        }
      ]
    },
    {
      "cell_type": "markdown",
      "metadata": {
        "id": "J562VdKbjYbH"
      },
      "source": [
        "Filtering using between"
      ]
    },
    {
      "cell_type": "code",
      "metadata": {
        "id": "MH-2c6_bjcGG",
        "colab": {
          "base_uri": "https://localhost:8080/",
          "height": 329
        },
        "outputId": "86b6f8d9-964f-4942-cec7-8a8e09f10ccb"
      },
      "source": [
        "cpc = cars['cars_per_cap']\n",
        "import numpy as np\n",
        "between = np.logical_and(cpc > 100, cpc < 500)\n",
        "medium = cars[between]\n",
        "display(medium)\n",
        "\n",
        "display(cars[cars['cars_per_cap']== 809])"
      ],
      "execution_count": null,
      "outputs": [
        {
          "output_type": "display_data",
          "data": {
            "text/html": [
              "<div>\n",
              "<style scoped>\n",
              "    .dataframe tbody tr th:only-of-type {\n",
              "        vertical-align: middle;\n",
              "    }\n",
              "\n",
              "    .dataframe tbody tr th {\n",
              "        vertical-align: top;\n",
              "    }\n",
              "\n",
              "    .dataframe thead th {\n",
              "        text-align: right;\n",
              "    }\n",
              "</style>\n",
              "<table border=\"1\" class=\"dataframe\">\n",
              "  <thead>\n",
              "    <tr style=\"text-align: right;\">\n",
              "      <th></th>\n",
              "      <th>country</th>\n",
              "      <th>drives_right</th>\n",
              "      <th>cars_per_cap</th>\n",
              "    </tr>\n",
              "  </thead>\n",
              "  <tbody>\n",
              "    <tr>\n",
              "      <th>US</th>\n",
              "      <td>United States</td>\n",
              "      <td>True</td>\n",
              "      <td>809</td>\n",
              "    </tr>\n",
              "    <tr>\n",
              "      <th>AUS</th>\n",
              "      <td>Australia</td>\n",
              "      <td>False</td>\n",
              "      <td>731</td>\n",
              "    </tr>\n",
              "    <tr>\n",
              "      <th>JAP</th>\n",
              "      <td>Japan</td>\n",
              "      <td>False</td>\n",
              "      <td>588</td>\n",
              "    </tr>\n",
              "    <tr>\n",
              "      <th>IN</th>\n",
              "      <td>India</td>\n",
              "      <td>False</td>\n",
              "      <td>18</td>\n",
              "    </tr>\n",
              "    <tr>\n",
              "      <th>RU</th>\n",
              "      <td>Russia</td>\n",
              "      <td>True</td>\n",
              "      <td>200</td>\n",
              "    </tr>\n",
              "    <tr>\n",
              "      <th>MOR</th>\n",
              "      <td>Morocco</td>\n",
              "      <td>True</td>\n",
              "      <td>70</td>\n",
              "    </tr>\n",
              "    <tr>\n",
              "      <th>EG</th>\n",
              "      <td>Egypt</td>\n",
              "      <td>True</td>\n",
              "      <td>45</td>\n",
              "    </tr>\n",
              "  </tbody>\n",
              "</table>\n",
              "</div>"
            ],
            "text/plain": [
              "           country  drives_right  cars_per_cap\n",
              "US   United States          True           809\n",
              "AUS      Australia         False           731\n",
              "JAP          Japan         False           588\n",
              "IN           India         False            18\n",
              "RU          Russia          True           200\n",
              "MOR        Morocco          True            70\n",
              "EG           Egypt          True            45"
            ]
          },
          "metadata": {
            "tags": []
          }
        },
        {
          "output_type": "display_data",
          "data": {
            "text/html": [
              "<div>\n",
              "<style scoped>\n",
              "    .dataframe tbody tr th:only-of-type {\n",
              "        vertical-align: middle;\n",
              "    }\n",
              "\n",
              "    .dataframe tbody tr th {\n",
              "        vertical-align: top;\n",
              "    }\n",
              "\n",
              "    .dataframe thead th {\n",
              "        text-align: right;\n",
              "    }\n",
              "</style>\n",
              "<table border=\"1\" class=\"dataframe\">\n",
              "  <thead>\n",
              "    <tr style=\"text-align: right;\">\n",
              "      <th></th>\n",
              "      <th>country</th>\n",
              "      <th>drives_right</th>\n",
              "      <th>cars_per_cap</th>\n",
              "    </tr>\n",
              "  </thead>\n",
              "  <tbody>\n",
              "    <tr>\n",
              "      <th>US</th>\n",
              "      <td>United States</td>\n",
              "      <td>True</td>\n",
              "      <td>809</td>\n",
              "    </tr>\n",
              "  </tbody>\n",
              "</table>\n",
              "</div>"
            ],
            "text/plain": [
              "          country  drives_right  cars_per_cap\n",
              "US  United States          True           809"
            ]
          },
          "metadata": {
            "tags": []
          }
        }
      ]
    },
    {
      "cell_type": "markdown",
      "metadata": {
        "id": "rZZJkEwvqfp0"
      },
      "source": [
        "# **WEEK 6**"
      ]
    },
    {
      "cell_type": "markdown",
      "metadata": {
        "id": "u4AuKbf-qoMn"
      },
      "source": [
        "**Numpy**"
      ]
    },
    {
      "cell_type": "code",
      "metadata": {
        "id": "-Qj977YzrSgT",
        "colab": {
          "base_uri": "https://localhost:8080/",
          "height": 201
        },
        "outputId": "dd87f94a-9150-4f2b-8d20-ace2c75b1c91"
      },
      "source": [
        "height = [1.67, 1.73, 1.75]\n",
        "width = [64.5, 57.4, 66.2]\n",
        "bmi = width/height ** 2"
      ],
      "execution_count": null,
      "outputs": [
        {
          "output_type": "error",
          "ename": "TypeError",
          "evalue": "ignored",
          "traceback": [
            "\u001b[0;31m---------------------------------------------------------------------------\u001b[0m",
            "\u001b[0;31mTypeError\u001b[0m                                 Traceback (most recent call last)",
            "\u001b[0;32m<ipython-input-3-4d105ff87244>\u001b[0m in \u001b[0;36m<module>\u001b[0;34m()\u001b[0m\n\u001b[1;32m      1\u001b[0m \u001b[0mheight\u001b[0m \u001b[0;34m=\u001b[0m \u001b[0;34m[\u001b[0m\u001b[0;36m1.67\u001b[0m\u001b[0;34m,\u001b[0m \u001b[0;36m1.73\u001b[0m\u001b[0;34m,\u001b[0m \u001b[0;36m1.75\u001b[0m\u001b[0;34m]\u001b[0m\u001b[0;34m\u001b[0m\u001b[0;34m\u001b[0m\u001b[0m\n\u001b[1;32m      2\u001b[0m \u001b[0mwidth\u001b[0m \u001b[0;34m=\u001b[0m \u001b[0;34m[\u001b[0m\u001b[0;36m64.5\u001b[0m\u001b[0;34m,\u001b[0m \u001b[0;36m57.4\u001b[0m\u001b[0;34m,\u001b[0m \u001b[0;36m66.2\u001b[0m\u001b[0;34m]\u001b[0m\u001b[0;34m\u001b[0m\u001b[0;34m\u001b[0m\u001b[0m\n\u001b[0;32m----> 3\u001b[0;31m \u001b[0mbmi\u001b[0m \u001b[0;34m=\u001b[0m \u001b[0mwidth\u001b[0m\u001b[0;34m/\u001b[0m\u001b[0mheight\u001b[0m \u001b[0;34m**\u001b[0m \u001b[0;36m2\u001b[0m\u001b[0;34m\u001b[0m\u001b[0;34m\u001b[0m\u001b[0m\n\u001b[0m",
            "\u001b[0;31mTypeError\u001b[0m: unsupported operand type(s) for ** or pow(): 'list' and 'int'"
          ]
        }
      ]
    },
    {
      "cell_type": "code",
      "metadata": {
        "id": "Fd-Y_HJDuzWO"
      },
      "source": [
        "import numpy as np\n",
        "np_height= np.array(height)\n",
        "np_width= np.array(width)\n",
        "bmi= np_width/np_height** 2"
      ],
      "execution_count": null,
      "outputs": []
    },
    {
      "cell_type": "code",
      "metadata": {
        "id": "dMx68ZJzqspo",
        "colab": {
          "base_uri": "https://localhost:8080/"
        },
        "outputId": "c7c6fc17-abcc-424a-f84b-ac31aa2f6811"
      },
      "source": [
        "np_2d = np.array([ [1,2,3], [4,5,6] ])\n",
        "print(np_2d.shape)# (2,3)\n",
        "np_arr_t= np.transpose(np_2d)# transpose\n",
        "print(np_arr_t)\n",
        "np_arr_t[-1]# last row"
      ],
      "execution_count": null,
      "outputs": [
        {
          "output_type": "stream",
          "text": [
            "(2, 3)\n",
            "[[1 4]\n",
            " [2 5]\n",
            " [3 6]]\n"
          ],
          "name": "stdout"
        },
        {
          "output_type": "execute_result",
          "data": {
            "text/plain": [
              "array([3, 6])"
            ]
          },
          "metadata": {
            "tags": []
          },
          "execution_count": 5
        }
      ]
    },
    {
      "cell_type": "code",
      "metadata": {
        "id": "cCkx0ZBEvMBF",
        "colab": {
          "base_uri": "https://localhost:8080/"
        },
        "outputId": "5317f6a9-a946-4c11-d095-82c973b735ad"
      },
      "source": [
        "#FUNDAMENTALS\n",
        "np_2d = np.array([ [1,2,3], [4,5,6] ])\n",
        "print(np_2d.shape)# (2,3)•\n",
        "np_arr_t= np.transpose(np_2d)# transpose•\n",
        "print(np_arr_t)\n",
        "np_arr_t[-1] #last row"
      ],
      "execution_count": null,
      "outputs": [
        {
          "output_type": "stream",
          "text": [
            "(2, 3)\n",
            "[[1 4]\n",
            " [2 5]\n",
            " [3 6]]\n"
          ],
          "name": "stdout"
        },
        {
          "output_type": "execute_result",
          "data": {
            "text/plain": [
              "array([3, 6])"
            ]
          },
          "metadata": {
            "tags": []
          },
          "execution_count": 7
        }
      ]
    },
    {
      "cell_type": "code",
      "metadata": {
        "id": "dxfEjKAXvyS7",
        "colab": {
          "base_uri": "https://localhost:8080/",
          "height": 156
        },
        "outputId": "9a1dafbd-fe5b-4dc1-99d8-be349fbf9fb7"
      },
      "source": [
        "#Subsetting arrays\n",
        "display(np_2d)\n",
        "display(np_2d[0])# 1st row\n",
        "display(np_2d[0][0])# 1st row, 1st column\n",
        "display(np_2d[0, 0])# 1st row, 1st column\n",
        "display(np_2d[:,1:3])# selects all rows with 1st and 2nd column\n",
        "display(np_2d[0,:])# select 1st row, and all columns"
      ],
      "execution_count": null,
      "outputs": [
        {
          "output_type": "display_data",
          "data": {
            "text/plain": [
              "array([[1, 2, 3],\n",
              "       [4, 5, 6]])"
            ]
          },
          "metadata": {
            "tags": []
          }
        },
        {
          "output_type": "display_data",
          "data": {
            "text/plain": [
              "array([1, 2, 3])"
            ]
          },
          "metadata": {
            "tags": []
          }
        },
        {
          "output_type": "display_data",
          "data": {
            "text/plain": [
              "1"
            ]
          },
          "metadata": {
            "tags": []
          }
        },
        {
          "output_type": "display_data",
          "data": {
            "text/plain": [
              "1"
            ]
          },
          "metadata": {
            "tags": []
          }
        },
        {
          "output_type": "display_data",
          "data": {
            "text/plain": [
              "array([[2, 3],\n",
              "       [5, 6]])"
            ]
          },
          "metadata": {
            "tags": []
          }
        },
        {
          "output_type": "display_data",
          "data": {
            "text/plain": [
              "array([1, 2, 3])"
            ]
          },
          "metadata": {
            "tags": []
          }
        }
      ]
    },
    {
      "cell_type": "code",
      "metadata": {
        "id": "ZDKroRxexkh4",
        "colab": {
          "base_uri": "https://localhost:8080/"
        },
        "outputId": "66c29859-fedd-4c02-a6ba-c20b8f55159d"
      },
      "source": [
        "#NUMPY ARRAY\n",
        "for x in np.array([1,2,3]):\n",
        "    print(x)\n",
        "\n",
        "#2d row array\n",
        "for x in np.array([[1,2,3], [4,5,6]]):\n",
        "    print(x)\n",
        "\n",
        "#multidimensional\n",
        "for x in np.nditer(np.array([[1,2,3], [4,5,6]])):# 2d array, cell\n",
        "    print(x)"
      ],
      "execution_count": null,
      "outputs": [
        {
          "output_type": "stream",
          "text": [
            "1\n",
            "2\n",
            "3\n",
            "[1 2 3]\n",
            "[4 5 6]\n",
            "1\n",
            "2\n",
            "3\n",
            "4\n",
            "5\n",
            "6\n"
          ],
          "name": "stdout"
        }
      ]
    },
    {
      "cell_type": "markdown",
      "metadata": {
        "id": "j73VuuSI1T34"
      },
      "source": [
        "RANDOM DATA NUMPY"
      ]
    },
    {
      "cell_type": "code",
      "metadata": {
        "id": "WUuIwYcY1XRX",
        "colab": {
          "base_uri": "https://localhost:8080/",
          "height": 451
        },
        "outputId": "cea67101-0bf9-42a0-e096-f15567d8ea31"
      },
      "source": [
        "signal = np.random.rand(12,1)\n",
        "display(signal.shape)\n",
        "display(signal)\n",
        "\n",
        "#RANDOM SAMPLE\n",
        "height = np.round(np.random.normal(1.75, 0.20, 5000), 2)\n",
        "display(height.shape)\n",
        "display(height)\n",
        "display(height.mean())\n",
        "\n",
        "weight = np.round(np.random.normal(60.32, 15, 5000), 2)\n",
        "display(weight)\n",
        "display(weight.mean())\n",
        "\n",
        "\n",
        "#1D ARRAY AS COLUMN IN 2D ARRAY\n",
        "np_people= np.column_stack((height, weight))\n",
        "display(np_people)\n"
      ],
      "execution_count": null,
      "outputs": [
        {
          "output_type": "display_data",
          "data": {
            "text/plain": [
              "(12, 1)"
            ]
          },
          "metadata": {
            "tags": []
          }
        },
        {
          "output_type": "display_data",
          "data": {
            "text/plain": [
              "array([[0.55002016],\n",
              "       [0.30127109],\n",
              "       [0.81150997],\n",
              "       [0.87902963],\n",
              "       [0.96153921],\n",
              "       [0.20422608],\n",
              "       [0.50572476],\n",
              "       [0.81377079],\n",
              "       [0.95410975],\n",
              "       [0.85413656],\n",
              "       [0.8487107 ],\n",
              "       [0.39685289]])"
            ]
          },
          "metadata": {
            "tags": []
          }
        },
        {
          "output_type": "display_data",
          "data": {
            "text/plain": [
              "(5000,)"
            ]
          },
          "metadata": {
            "tags": []
          }
        },
        {
          "output_type": "display_data",
          "data": {
            "text/plain": [
              "array([1.78, 1.54, 1.92, ..., 1.71, 1.5 , 1.85])"
            ]
          },
          "metadata": {
            "tags": []
          }
        },
        {
          "output_type": "display_data",
          "data": {
            "text/plain": [
              "1.75216"
            ]
          },
          "metadata": {
            "tags": []
          }
        },
        {
          "output_type": "display_data",
          "data": {
            "text/plain": [
              "array([101.13,  46.25,  51.63, ...,  44.76,  50.03,  68.52])"
            ]
          },
          "metadata": {
            "tags": []
          }
        },
        {
          "output_type": "display_data",
          "data": {
            "text/plain": [
              "60.510202"
            ]
          },
          "metadata": {
            "tags": []
          }
        },
        {
          "output_type": "display_data",
          "data": {
            "text/plain": [
              "array([[  1.78, 101.13],\n",
              "       [  1.54,  46.25],\n",
              "       [  1.92,  51.63],\n",
              "       ...,\n",
              "       [  1.71,  44.76],\n",
              "       [  1.5 ,  50.03],\n",
              "       [  1.85,  68.52]])"
            ]
          },
          "metadata": {
            "tags": []
          }
        }
      ]
    },
    {
      "cell_type": "markdown",
      "metadata": {
        "id": "Wxe9PJt5u9xM"
      },
      "source": [
        "# **WEEK 7**"
      ]
    },
    {
      "cell_type": "markdown",
      "metadata": {
        "id": "l9wTM4VmvAQq"
      },
      "source": [
        "**Line Scatter Plot**"
      ]
    },
    {
      "cell_type": "code",
      "metadata": {
        "id": "bjRI8yIdvGA4",
        "colab": {
          "base_uri": "https://localhost:8080/",
          "height": 265
        },
        "outputId": "cde7c94a-a062-4e84-ce6b-f4e928f021ff"
      },
      "source": [
        "import matplotlib.pyplot as plt\n",
        "\n",
        "year = [1950, 1970, 1990, 2010]\n",
        "pop = [2.519, 3.692, 5.263, 6.972]\n",
        "\n",
        "plt.plot(year, pop)# line plot\n",
        "#plt.scatter(year, pop)# scatter\n",
        "\n",
        "plt.show()\n",
        "#Change scale: plt.xscale('log')"
      ],
      "execution_count": null,
      "outputs": [
        {
          "output_type": "display_data",
          "data": {
            "image/png": "[encoded data removed]",
            "text/plain": [
              "<Figure size 432x288 with 1 Axes>"
            ]
          },
          "metadata": {
            "tags": [],
            "needs_background": "light"
          }
        }
      ]
    },
    {
      "cell_type": "markdown",
      "metadata": {
        "id": "CMwqxD_DwB2r"
      },
      "source": [
        "**Histogram**"
      ]
    },
    {
      "cell_type": "code",
      "metadata": {
        "id": "G0AbY9OQwF3H",
        "colab": {
          "base_uri": "https://localhost:8080/",
          "height": 265
        },
        "outputId": "9cab1abd-67e5-41f3-aeda-0b796b8d1f7d"
      },
      "source": [
        "import matplotlib.pyplot as plt\n",
        "\n",
        "values = [0,0.6,1.4,1.6,2.2,2.5,2.6,3.2,3.5,3.9,4.2,6]\n",
        "plt.hist(values, bins = 6)\n",
        "plt.show()"
      ],
      "execution_count": null,
      "outputs": [
        {
          "output_type": "display_data",
          "data": {
            "image/png": "[encoded data removed]",
            "text/plain": [
              "<Figure size 432x288 with 1 Axes>"
            ]
          },
          "metadata": {
            "tags": [],
            "needs_background": "light"
          }
        }
      ]
    },
    {
      "cell_type": "code",
      "metadata": {
        "id": "Vr88B429wlIQ",
        "colab": {
          "base_uri": "https://localhost:8080/",
          "height": 548
        },
        "outputId": "1eeed7d0-6f34-4565-c3b4-c43ab61d5a9e"
      },
      "source": [
        "import numpy as np\n",
        "# imagine a virus, where 45 is the mean age af the attact, and we want the number of death per age group\n",
        "data = np.round(np.random.normal(45, 10, 5000), 2) #draw random samples from a normal distribution\n",
        "print('max:', max(data), 'min:', min(data), 'mean', data.mean(), 'st', data.std())\n",
        "plt.hist(data, bins = 8)\n",
        "plt.show()\n",
        "\n",
        "# imagine a virus, where 25 is the mean age af the attact, and we want the number of death per age group\n",
        "data = np.round(np.random.normal(25, 10, 5000), 2) #draw random samples from a normal distribution\n",
        "print('max:', max(data), 'min:' , min(data), 'mean', data.mean(), 'st', data.std())\n",
        "plt.hist(data, bins = 8)\n",
        "plt.show()"
      ],
      "execution_count": null,
      "outputs": [
        {
          "output_type": "stream",
          "text": [
            "max: 83.05 min: 9.9 mean 45.094694 st 10.009215892684301\n"
          ],
          "name": "stdout"
        },
        {
          "output_type": "display_data",
          "data": {
            "image/png": "[encoded data removed]",
            "text/plain": [
              "<Figure size 432x288 with 1 Axes>"
            ]
          },
          "metadata": {
            "tags": [],
            "needs_background": "light"
          }
        },
        {
          "output_type": "stream",
          "text": [
            "max: 58.44 min: -8.85 mean 24.755585999999997 st 9.963886296852449\n"
          ],
          "name": "stdout"
        },
        {
          "output_type": "display_data",
          "data": {
            "image/png": "[encoded data removed]",
            "text/plain": [
              "<Figure size 432x288 with 1 Axes>"
            ]
          },
          "metadata": {
            "tags": [],
            "needs_background": "light"
          }
        }
      ]
    },
    {
      "cell_type": "code",
      "metadata": {
        "id": "J-qsb6rxyrYm",
        "colab": {
          "base_uri": "https://localhost:8080/",
          "height": 629
        },
        "outputId": "61c847d5-58cc-4158-bc2a-cf947af567d9"
      },
      "source": [
        "height = np.round(np.random.normal(0, 1, 125000), 2)\n",
        "plt.hist(height, bin = 30)\n",
        "plt.show()"
      ],
      "execution_count": null,
      "outputs": [
        {
          "output_type": "error",
          "ename": "AttributeError",
          "evalue": "ignored",
          "traceback": [
            "\u001b[0;31m---------------------------------------------------------------------------\u001b[0m",
            "\u001b[0;31mAttributeError\u001b[0m                            Traceback (most recent call last)",
            "\u001b[0;32m<ipython-input-9-abcc4297fddd>\u001b[0m in \u001b[0;36m<module>\u001b[0;34m()\u001b[0m\n\u001b[1;32m      1\u001b[0m \u001b[0mheight\u001b[0m \u001b[0;34m=\u001b[0m \u001b[0mnp\u001b[0m\u001b[0;34m.\u001b[0m\u001b[0mround\u001b[0m\u001b[0;34m(\u001b[0m\u001b[0mnp\u001b[0m\u001b[0;34m.\u001b[0m\u001b[0mrandom\u001b[0m\u001b[0;34m.\u001b[0m\u001b[0mnormal\u001b[0m\u001b[0;34m(\u001b[0m\u001b[0;36m0\u001b[0m\u001b[0;34m,\u001b[0m \u001b[0;36m1\u001b[0m\u001b[0;34m,\u001b[0m \u001b[0;36m125000\u001b[0m\u001b[0;34m)\u001b[0m\u001b[0;34m,\u001b[0m \u001b[0;36m2\u001b[0m\u001b[0;34m)\u001b[0m\u001b[0;34m\u001b[0m\u001b[0;34m\u001b[0m\u001b[0m\n\u001b[0;32m----> 2\u001b[0;31m \u001b[0mplt\u001b[0m\u001b[0;34m.\u001b[0m\u001b[0mhist\u001b[0m\u001b[0;34m(\u001b[0m\u001b[0mheight\u001b[0m\u001b[0;34m,\u001b[0m \u001b[0mbin\u001b[0m \u001b[0;34m=\u001b[0m \u001b[0;36m30\u001b[0m\u001b[0;34m)\u001b[0m\u001b[0;34m\u001b[0m\u001b[0;34m\u001b[0m\u001b[0m\n\u001b[0m\u001b[1;32m      3\u001b[0m \u001b[0mplt\u001b[0m\u001b[0;34m.\u001b[0m\u001b[0mshow\u001b[0m\u001b[0;34m(\u001b[0m\u001b[0;34m)\u001b[0m\u001b[0;34m\u001b[0m\u001b[0;34m\u001b[0m\u001b[0m\n",
            "\u001b[0;32m/usr/local/lib/python3.6/dist-packages/matplotlib/pyplot.py\u001b[0m in \u001b[0;36mhist\u001b[0;34m(x, bins, range, density, weights, cumulative, bottom, histtype, align, orientation, rwidth, log, color, label, stacked, data, **kwargs)\u001b[0m\n\u001b[1;32m   2608\u001b[0m         \u001b[0malign\u001b[0m\u001b[0;34m=\u001b[0m\u001b[0malign\u001b[0m\u001b[0;34m,\u001b[0m \u001b[0morientation\u001b[0m\u001b[0;34m=\u001b[0m\u001b[0morientation\u001b[0m\u001b[0;34m,\u001b[0m \u001b[0mrwidth\u001b[0m\u001b[0;34m=\u001b[0m\u001b[0mrwidth\u001b[0m\u001b[0;34m,\u001b[0m \u001b[0mlog\u001b[0m\u001b[0;34m=\u001b[0m\u001b[0mlog\u001b[0m\u001b[0;34m,\u001b[0m\u001b[0;34m\u001b[0m\u001b[0;34m\u001b[0m\u001b[0m\n\u001b[1;32m   2609\u001b[0m         color=color, label=label, stacked=stacked, **({\"data\": data}\n\u001b[0;32m-> 2610\u001b[0;31m         if data is not None else {}), **kwargs)\n\u001b[0m\u001b[1;32m   2611\u001b[0m \u001b[0;34m\u001b[0m\u001b[0m\n\u001b[1;32m   2612\u001b[0m \u001b[0;34m\u001b[0m\u001b[0m\n",
            "\u001b[0;32m/usr/local/lib/python3.6/dist-packages/matplotlib/__init__.py\u001b[0m in \u001b[0;36minner\u001b[0;34m(ax, data, *args, **kwargs)\u001b[0m\n\u001b[1;32m   1563\u001b[0m     \u001b[0;32mdef\u001b[0m \u001b[0minner\u001b[0m\u001b[0;34m(\u001b[0m\u001b[0max\u001b[0m\u001b[0;34m,\u001b[0m \u001b[0;34m*\u001b[0m\u001b[0margs\u001b[0m\u001b[0;34m,\u001b[0m \u001b[0mdata\u001b[0m\u001b[0;34m=\u001b[0m\u001b[0;32mNone\u001b[0m\u001b[0;34m,\u001b[0m \u001b[0;34m**\u001b[0m\u001b[0mkwargs\u001b[0m\u001b[0;34m)\u001b[0m\u001b[0;34m:\u001b[0m\u001b[0;34m\u001b[0m\u001b[0;34m\u001b[0m\u001b[0m\n\u001b[1;32m   1564\u001b[0m         \u001b[0;32mif\u001b[0m \u001b[0mdata\u001b[0m \u001b[0;32mis\u001b[0m \u001b[0;32mNone\u001b[0m\u001b[0;34m:\u001b[0m\u001b[0;34m\u001b[0m\u001b[0;34m\u001b[0m\u001b[0m\n\u001b[0;32m-> 1565\u001b[0;31m             \u001b[0;32mreturn\u001b[0m \u001b[0mfunc\u001b[0m\u001b[0;34m(\u001b[0m\u001b[0max\u001b[0m\u001b[0;34m,\u001b[0m \u001b[0;34m*\u001b[0m\u001b[0mmap\u001b[0m\u001b[0;34m(\u001b[0m\u001b[0msanitize_sequence\u001b[0m\u001b[0;34m,\u001b[0m \u001b[0margs\u001b[0m\u001b[0;34m)\u001b[0m\u001b[0;34m,\u001b[0m \u001b[0;34m**\u001b[0m\u001b[0mkwargs\u001b[0m\u001b[0;34m)\u001b[0m\u001b[0;34m\u001b[0m\u001b[0;34m\u001b[0m\u001b[0m\n\u001b[0m\u001b[1;32m   1566\u001b[0m \u001b[0;34m\u001b[0m\u001b[0m\n\u001b[1;32m   1567\u001b[0m         \u001b[0mbound\u001b[0m \u001b[0;34m=\u001b[0m \u001b[0mnew_sig\u001b[0m\u001b[0;34m.\u001b[0m\u001b[0mbind\u001b[0m\u001b[0;34m(\u001b[0m\u001b[0max\u001b[0m\u001b[0;34m,\u001b[0m \u001b[0;34m*\u001b[0m\u001b[0margs\u001b[0m\u001b[0;34m,\u001b[0m \u001b[0;34m**\u001b[0m\u001b[0mkwargs\u001b[0m\u001b[0;34m)\u001b[0m\u001b[0;34m\u001b[0m\u001b[0;34m\u001b[0m\u001b[0m\n",
            "\u001b[0;32m/usr/local/lib/python3.6/dist-packages/matplotlib/axes/_axes.py\u001b[0m in \u001b[0;36mhist\u001b[0;34m(self, x, bins, range, density, weights, cumulative, bottom, histtype, align, orientation, rwidth, log, color, label, stacked, **kwargs)\u001b[0m\n\u001b[1;32m   6817\u001b[0m             \u001b[0;32mif\u001b[0m \u001b[0mpatch\u001b[0m\u001b[0;34m:\u001b[0m\u001b[0;34m\u001b[0m\u001b[0;34m\u001b[0m\u001b[0m\n\u001b[1;32m   6818\u001b[0m                 \u001b[0mp\u001b[0m \u001b[0;34m=\u001b[0m \u001b[0mpatch\u001b[0m\u001b[0;34m[\u001b[0m\u001b[0;36m0\u001b[0m\u001b[0;34m]\u001b[0m\u001b[0;34m\u001b[0m\u001b[0;34m\u001b[0m\u001b[0m\n\u001b[0;32m-> 6819\u001b[0;31m                 \u001b[0mp\u001b[0m\u001b[0;34m.\u001b[0m\u001b[0mupdate\u001b[0m\u001b[0;34m(\u001b[0m\u001b[0mkwargs\u001b[0m\u001b[0;34m)\u001b[0m\u001b[0;34m\u001b[0m\u001b[0;34m\u001b[0m\u001b[0m\n\u001b[0m\u001b[1;32m   6820\u001b[0m                 \u001b[0;32mif\u001b[0m \u001b[0mlbl\u001b[0m \u001b[0;32mis\u001b[0m \u001b[0;32mnot\u001b[0m \u001b[0;32mNone\u001b[0m\u001b[0;34m:\u001b[0m\u001b[0;34m\u001b[0m\u001b[0;34m\u001b[0m\u001b[0m\n\u001b[1;32m   6821\u001b[0m                     \u001b[0mp\u001b[0m\u001b[0;34m.\u001b[0m\u001b[0mset_label\u001b[0m\u001b[0;34m(\u001b[0m\u001b[0mlbl\u001b[0m\u001b[0;34m)\u001b[0m\u001b[0;34m\u001b[0m\u001b[0;34m\u001b[0m\u001b[0m\n",
            "\u001b[0;32m/usr/local/lib/python3.6/dist-packages/matplotlib/artist.py\u001b[0m in \u001b[0;36mupdate\u001b[0;34m(self, props)\u001b[0m\n\u001b[1;32m   1004\u001b[0m \u001b[0;34m\u001b[0m\u001b[0m\n\u001b[1;32m   1005\u001b[0m         \u001b[0;32mwith\u001b[0m \u001b[0mcbook\u001b[0m\u001b[0;34m.\u001b[0m\u001b[0m_setattr_cm\u001b[0m\u001b[0;34m(\u001b[0m\u001b[0mself\u001b[0m\u001b[0;34m,\u001b[0m \u001b[0meventson\u001b[0m\u001b[0;34m=\u001b[0m\u001b[0;32mFalse\u001b[0m\u001b[0;34m)\u001b[0m\u001b[0;34m:\u001b[0m\u001b[0;34m\u001b[0m\u001b[0;34m\u001b[0m\u001b[0m\n\u001b[0;32m-> 1006\u001b[0;31m             \u001b[0mret\u001b[0m \u001b[0;34m=\u001b[0m \u001b[0;34m[\u001b[0m\u001b[0m_update_property\u001b[0m\u001b[0;34m(\u001b[0m\u001b[0mself\u001b[0m\u001b[0;34m,\u001b[0m \u001b[0mk\u001b[0m\u001b[0;34m,\u001b[0m \u001b[0mv\u001b[0m\u001b[0;34m)\u001b[0m \u001b[0;32mfor\u001b[0m \u001b[0mk\u001b[0m\u001b[0;34m,\u001b[0m \u001b[0mv\u001b[0m \u001b[0;32min\u001b[0m \u001b[0mprops\u001b[0m\u001b[0;34m.\u001b[0m\u001b[0mitems\u001b[0m\u001b[0;34m(\u001b[0m\u001b[0;34m)\u001b[0m\u001b[0;34m]\u001b[0m\u001b[0;34m\u001b[0m\u001b[0;34m\u001b[0m\u001b[0m\n\u001b[0m\u001b[1;32m   1007\u001b[0m \u001b[0;34m\u001b[0m\u001b[0m\n\u001b[1;32m   1008\u001b[0m         \u001b[0;32mif\u001b[0m \u001b[0mlen\u001b[0m\u001b[0;34m(\u001b[0m\u001b[0mret\u001b[0m\u001b[0;34m)\u001b[0m\u001b[0;34m:\u001b[0m\u001b[0;34m\u001b[0m\u001b[0;34m\u001b[0m\u001b[0m\n",
            "\u001b[0;32m/usr/local/lib/python3.6/dist-packages/matplotlib/artist.py\u001b[0m in \u001b[0;36m<listcomp>\u001b[0;34m(.0)\u001b[0m\n\u001b[1;32m   1004\u001b[0m \u001b[0;34m\u001b[0m\u001b[0m\n\u001b[1;32m   1005\u001b[0m         \u001b[0;32mwith\u001b[0m \u001b[0mcbook\u001b[0m\u001b[0;34m.\u001b[0m\u001b[0m_setattr_cm\u001b[0m\u001b[0;34m(\u001b[0m\u001b[0mself\u001b[0m\u001b[0;34m,\u001b[0m \u001b[0meventson\u001b[0m\u001b[0;34m=\u001b[0m\u001b[0;32mFalse\u001b[0m\u001b[0;34m)\u001b[0m\u001b[0;34m:\u001b[0m\u001b[0;34m\u001b[0m\u001b[0;34m\u001b[0m\u001b[0m\n\u001b[0;32m-> 1006\u001b[0;31m             \u001b[0mret\u001b[0m \u001b[0;34m=\u001b[0m \u001b[0;34m[\u001b[0m\u001b[0m_update_property\u001b[0m\u001b[0;34m(\u001b[0m\u001b[0mself\u001b[0m\u001b[0;34m,\u001b[0m \u001b[0mk\u001b[0m\u001b[0;34m,\u001b[0m \u001b[0mv\u001b[0m\u001b[0;34m)\u001b[0m \u001b[0;32mfor\u001b[0m \u001b[0mk\u001b[0m\u001b[0;34m,\u001b[0m \u001b[0mv\u001b[0m \u001b[0;32min\u001b[0m \u001b[0mprops\u001b[0m\u001b[0;34m.\u001b[0m\u001b[0mitems\u001b[0m\u001b[0;34m(\u001b[0m\u001b[0;34m)\u001b[0m\u001b[0;34m]\u001b[0m\u001b[0;34m\u001b[0m\u001b[0;34m\u001b[0m\u001b[0m\n\u001b[0m\u001b[1;32m   1007\u001b[0m \u001b[0;34m\u001b[0m\u001b[0m\n\u001b[1;32m   1008\u001b[0m         \u001b[0;32mif\u001b[0m \u001b[0mlen\u001b[0m\u001b[0;34m(\u001b[0m\u001b[0mret\u001b[0m\u001b[0;34m)\u001b[0m\u001b[0;34m:\u001b[0m\u001b[0;34m\u001b[0m\u001b[0;34m\u001b[0m\u001b[0m\n",
            "\u001b[0;32m/usr/local/lib/python3.6/dist-packages/matplotlib/artist.py\u001b[0m in \u001b[0;36m_update_property\u001b[0;34m(self, k, v)\u001b[0m\n\u001b[1;32m   1000\u001b[0m                 \u001b[0;32mif\u001b[0m \u001b[0;32mnot\u001b[0m \u001b[0mcallable\u001b[0m\u001b[0;34m(\u001b[0m\u001b[0mfunc\u001b[0m\u001b[0;34m)\u001b[0m\u001b[0;34m:\u001b[0m\u001b[0;34m\u001b[0m\u001b[0;34m\u001b[0m\u001b[0m\n\u001b[1;32m   1001\u001b[0m                     raise AttributeError('{!r} object has no property {!r}'\n\u001b[0;32m-> 1002\u001b[0;31m                                          .format(type(self).__name__, k))\n\u001b[0m\u001b[1;32m   1003\u001b[0m                 \u001b[0;32mreturn\u001b[0m \u001b[0mfunc\u001b[0m\u001b[0;34m(\u001b[0m\u001b[0mv\u001b[0m\u001b[0;34m)\u001b[0m\u001b[0;34m\u001b[0m\u001b[0;34m\u001b[0m\u001b[0m\n\u001b[1;32m   1004\u001b[0m \u001b[0;34m\u001b[0m\u001b[0m\n",
            "\u001b[0;31mAttributeError\u001b[0m: 'Rectangle' object has no property 'bin'"
          ]
        },
        {
          "output_type": "display_data",
          "data": {
            "image/png": "[encoded data removed]",
            "text/plain": [
              "<Figure size 432x288 with 1 Axes>"
            ]
          },
          "metadata": {
            "tags": [],
            "needs_background": "light"
          }
        }
      ]
    },
    {
      "cell_type": "code",
      "metadata": {
        "id": "TrdizTfB07Vf",
        "colab": {
          "base_uri": "https://localhost:8080/",
          "height": 295
        },
        "outputId": "59ee3d41-4deb-44e1-ccae-cf113d8afd68"
      },
      "source": [
        "#More customisation\n",
        "year = [1950, 1951, 1952, 2100]\n",
        "pop = [2.538, 2.57, 2.62, 10.85]\n",
        "plt.plot(year, pop)\n",
        "plt.xlabel('Year')\n",
        "plt.ylabel('Population')\n",
        "plt.title('World Population Projections')\n",
        "plt.yticks([0, 2, 4, 6, 8, 10], ['0', '2B', '4B', '6B', '8B', '10B'])\n",
        "\n",
        "#Additional Customisation\n",
        "plt.text(1945, 2.038, 'Past')\n",
        "plt.text(2018, 6, 'Current')\n",
        "plt.text(2090, 9.85, 'Future')\n",
        "\n",
        "#Add grid() call\n",
        "plt.grid(True)\n",
        "plt.show()"
      ],
      "execution_count": null,
      "outputs": [
        {
          "output_type": "display_data",
          "data": {
            "image/png": "[encoded data removed]",
            "text/plain": [
              "<Figure size 432x288 with 1 Axes>"
            ]
          },
          "metadata": {
            "tags": [],
            "needs_background": "light"
          }
        }
      ]
    },
    {
      "cell_type": "markdown",
      "metadata": {
        "id": "scIvrF__6czF"
      },
      "source": [
        "Pie chart"
      ]
    },
    {
      "cell_type": "code",
      "metadata": {
        "id": "THRg8bkT6fXm"
      },
      "source": [
        "import seaborn as sns\n",
        "sns.set()\n",
        "cars_sorted.plot(kind= 'barh', x= 'country', y='cars_per_cap');\n",
        "ax = cars_sorted.plot(kind= 'pie', x='country', y='cars_per_cap', label)"
      ],
      "execution_count": null,
      "outputs": []
    },
    {
      "cell_type": "markdown",
      "metadata": {
        "id": "BnalcYPvxAID"
      },
      "source": [
        "**Week 7**"
      ]
    },
    {
      "cell_type": "code",
      "metadata": {
        "id": "sIpYc1PXxPUS"
      },
      "source": [
        "iris = dataset.load_iris()\n",
        "\n",
        "future length werer future lkenght withddtghthen we see the brown fox jumpingg over the brown hedge int hefactor thafs the iw"
      ],
      "execution_count": null,
      "outputs": []
    },
    {
      "cell_type": "markdown",
      "metadata": {
        "id": "t2SuHTuKxyw6"
      },
      "source": [
        "**WEEK 9** Remember to fill in week 7 and 8"
      ]
    },
    {
      "cell_type": "code",
      "metadata": {
        "id": "I4pG7NmCx7aV"
      },
      "source": [
        "\n",
        "mean_lenght_vers = np.mean(versicolor_petal_length)\n",
        "median_length_vers = np.median(versicolor_petal_lenght)\n",
        "\n",
        "print('Mean: I, versicolor:' mean_length_vers, 'cm' )\n",
        "print('Median: I, versicolor:' median_length_vers, 'cm' )\n",
        "\n"
      ],
      "execution_count": null,
      "outputs": []
    },
    {
      "cell_type": "markdown",
      "metadata": {
        "id": "4bobTdtcz1XR"
      },
      "source": [
        "Second batch"
      ]
    },
    {
      "cell_type": "code",
      "metadata": {
        "id": "G3KJPzNUz3q6"
      },
      "source": [
        "mean_lenght_vers = np.mean(list(versicolor_petal_length) + [10000] )\n",
        "median_length_vers = np.median(list(versicolor_petal_lenght) + [100000] )\n",
        "\n",
        "print('Mean: I, versicolor:' mean_length_vers, 'cm' )\n",
        "print('Median: I, versicolor:' median_length_vers, 'cm' )\n"
      ],
      "execution_count": null,
      "outputs": []
    }
  ]
}