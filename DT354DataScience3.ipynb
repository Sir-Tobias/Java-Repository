{
  "nbformat": 4,
  "nbformat_minor": 0,
  "metadata": {
    "colab": {
      "name": "DT354DataScience3.ipynb",
      "provenance": [],
      "collapsed_sections": [],
      "authorship_tag": "ABX9TyOo5pU4her3ctBiPzACw3DK",
      "include_colab_link": true
    },
    "kernelspec": {
      "name": "python3",
      "display_name": "Python 3"
    }
  },
  "cells": [
    {
      "cell_type": "markdown",
      "metadata": {
        "id": "view-in-github",
        "colab_type": "text"
      },
      "source": [
        "<a href=\"https://colab.research.google.com/github/Sir-Tobias/Java-Repository/blob/master/DT354DataScience3.ipynb\" target=\"_parent\"><img src=\"https://colab.research.google.com/assets/colab-badge.svg\" alt=\"Open In Colab\"/></a>"
      ]
    },
    {
      "cell_type": "markdown",
      "metadata": {
        "id": "_yP20U-PKskd"
      },
      "source": [
        "**This is used to label your code**\n",
        "hello world example\n",
        "\n",
        "*   Hello world example\n",
        "*   Valuable assignment\n",
        "\n",
        "\n"
      ]
    },
    {
      "cell_type": "code",
      "metadata": {
        "id": "z-U63kAvKVfb",
        "outputId": "011a7c0b-e974-4d93-870b-5a0637c4c300",
        "colab": {
          "base_uri": "https://localhost:8080/",
          "height": 52
        }
      },
      "source": [
        "mass = 25\n",
        "\n",
        "volume = 5\n",
        "\n",
        "density = mass/volume\n",
        "\n",
        "print(density)\n",
        "\n",
        "message = 'hello'\n",
        "person = 'bob'\n",
        "\n",
        "welcome = message + ' ' + person\n",
        "print(welcome)\n",
        "\n"
      ],
      "execution_count": null,
      "outputs": [
        {
          "output_type": "stream",
          "text": [
            "5.0\n",
            "hello bob\n"
          ],
          "name": "stdout"
        }
      ]
    },
    {
      "cell_type": "markdown",
      "metadata": {
        "id": "Nylni72KO1P4"
      },
      "source": [
        "Type Example"
      ]
    },
    {
      "cell_type": "code",
      "metadata": {
        "id": "uVtBA6xmO35X",
        "outputId": "8c36efb3-8329-4063-f1eb-a1e8ac1d40ec",
        "colab": {
          "base_uri": "https://localhost:8080/",
          "height": 69
        }
      },
      "source": [
        "isTodaySunday = False\n",
        "\n",
        "print(type(isTodaySunday)) # bool\n",
        "\n",
        "value_str = \"25\"\n",
        "\n",
        "print(type(value_str))\n",
        "print(type(int(value_str))) # forced type int because the value \"25\" can also be converted to an int"
      ],
      "execution_count": null,
      "outputs": [
        {
          "output_type": "stream",
          "text": [
            "<class 'bool'>\n",
            "<class 'str'>\n",
            "<class 'int'>\n"
          ],
          "name": "stdout"
        }
      ]
    },
    {
      "cell_type": "markdown",
      "metadata": {
        "id": "vPCxja9xQrul"
      },
      "source": [
        "Help command syntax\n",
        "\n",
        "\n",
        "*   Put a question mark infront of anything you dont understand\n",
        "*   ?len\n",
        "\n",
        "\n",
        "*   ?type\n",
        "*   ?print\n",
        "\n",
        "\n",
        "\n",
        "\n",
        "\n"
      ]
    },
    {
      "cell_type": "code",
      "metadata": {
        "id": "GSntrwjoQt_-"
      },
      "source": [
        "?len\n",
        "\n",
        "?type\n",
        "\n",
        "?print"
      ],
      "execution_count": null,
      "outputs": []
    },
    {
      "cell_type": "markdown",
      "metadata": {
        "id": "y8aWf15SSAxY"
      },
      "source": [
        "Python Lists"
      ]
    },
    {
      "cell_type": "code",
      "metadata": {
        "id": "Z8t7wDa1Seyu",
        "outputId": "92e89060-092f-4945-fb71-2a4957bd7084",
        "colab": {
          "base_uri": "https://localhost:8080/",
          "height": 104
        }
      },
      "source": [
        "a = \"is\"\n",
        "b = 2\n",
        "\n",
        "my_list = [\"my_list\", a, b]\n",
        "list_of_lists = [ my_list,[4,5]]\n",
        "list_of_different_items = [my_list,[4,5],8]\n",
        "print(\"list_of_different_items[0] .7\", list_of_different_items[0])\n",
        "print(\"list_of_different_items[1] .8\", list_of_different_items[1])\n",
        "print(\"list_of_different_items[2].9\", list_of_different_items[2])\n",
        "print(\"list_of_different_items[-1].10\", list_of_different_items[-1])\n",
        "print(\"list_of_different_items len .11\", len(list_of_different_items))"
      ],
      "execution_count": null,
      "outputs": [
        {
          "output_type": "stream",
          "text": [
            "list_of_different_items[0] .7 ['my_list', 'is', 2]\n",
            "list_of_different_items[1] .8 [4, 5]\n",
            "list_of_different_items[2].9 8\n",
            "list_of_different_items[-1].10 8\n",
            "list_of_different_items len .11 3\n"
          ],
          "name": "stdout"
        }
      ]
    },
    {
      "cell_type": "markdown",
      "metadata": {
        "id": "T3vWmKP9ZCCZ"
      },
      "source": [
        "ASK GOOGLE EXAMPLE"
      ]
    },
    {
      "cell_type": "code",
      "metadata": {
        "id": "Ig_n2qn8ZGM7",
        "outputId": "a61b4aa5-3086-44d6-e8e1-5aa0820996dc",
        "colab": {
          "base_uri": "https://localhost:8080/",
          "height": 52
        }
      },
      "source": [
        "town = \"Dublin and Derry\"\n",
        "print(town.lower())\n",
        "print(town.lower().count('d'))\n",
        "\n"
      ],
      "execution_count": null,
      "outputs": [
        {
          "output_type": "stream",
          "text": [
            "dublin and derry\n",
            "3\n"
          ],
          "name": "stdout"
        }
      ]
    },
    {
      "cell_type": "markdown",
      "metadata": {
        "id": "hejPDouzcUi-"
      },
      "source": [
        "Packages & Import"
      ]
    },
    {
      "cell_type": "code",
      "metadata": {
        "id": "UW-9enMucaMe"
      },
      "source": [
        "import math\n",
        "\n",
        "print(math.sqrt(4))\n",
        "\n",
        "from math import sin #You can import a specific function from the math libary\n",
        "print(sin(90))\n",
        "\n",
        "import math as m# Import as M because you do not have to type math each time\n",
        "print(m.sin(90))"
      ],
      "execution_count": null,
      "outputs": []
    },
    {
      "cell_type": "markdown",
      "metadata": {
        "id": "zPnISdzSdesx"
      },
      "source": [
        "Logic"
      ]
    },
    {
      "cell_type": "code",
      "metadata": {
        "id": "TyEiDkDpdiJ-"
      },
      "source": [
        "print(True == False)\n",
        "print(2*8! = -8)\n",
        "\n",
        "print('Ireland' == 'ireland')\n",
        "print(False == 0)\n"
      ],
      "execution_count": null,
      "outputs": []
    },
    {
      "cell_type": "markdown",
      "metadata": {
        "id": "UlLAy7LqfHXU"
      },
      "source": [
        "Control Flow"
      ]
    },
    {
      "cell_type": "code",
      "metadata": {
        "id": "Yi8mEw9VfJbc",
        "outputId": "1ea604f6-2c95-425f-af4c-e92663afcdba",
        "colab": {
          "base_uri": "https://localhost:8080/",
          "height": 35
        }
      },
      "source": [
        "if 9 > 10:\n",
        "    print(\"9 is greater than 10\")\n",
        "elif 9 == 10:\n",
        "    print(\"9 is equal to 10\")\n",
        "else:\n",
        "    print(\"9 is lesser than 10\")"
      ],
      "execution_count": null,
      "outputs": [
        {
          "output_type": "stream",
          "text": [
            "9 is lesser than 10\n"
          ],
          "name": "stdout"
        }
      ]
    },
    {
      "cell_type": "markdown",
      "metadata": {
        "id": "stIEKoc-M-SX"
      },
      "source": [
        "WEEK 3"
      ]
    },
    {
      "cell_type": "code",
      "metadata": {
        "id": "1wKbvT3sNAue",
        "outputId": "48f4b36b-5767-47f8-b796-c5cf0db7a005",
        "colab": {
          "base_uri": "https://localhost:8080/"
        }
      },
      "source": [
        "x = 1\n",
        "while x <3: #That has a condition that must be met \n",
        "    print(x)\n",
        "    x += 1\n",
        "print('>outside break')\n",
        "\n",
        "while True: #infinite while loop that must be supported through a break\n",
        "    print(x)\n",
        "    x += 1\n",
        "    print (x)\n",
        "    if x> 6:\n",
        "      break\n",
        "print('outside')"
      ],
      "execution_count": null,
      "outputs": [
        {
          "output_type": "stream",
          "text": [
            "1\n",
            "2\n",
            ">outside break\n",
            "3\n",
            "4\n",
            "4\n",
            "5\n",
            "5\n",
            "6\n",
            "6\n",
            "7\n",
            "outside\n"
          ],
          "name": "stdout"
        }
      ]
    },
    {
      "cell_type": "markdown",
      "metadata": {
        "id": "Ir-SBL2kO8-L"
      },
      "source": [
        "Defining your own functions"
      ]
    },
    {
      "cell_type": "code",
      "metadata": {
        "id": "CnsU9KuFPsII",
        "outputId": "8ff7a735-8be5-47d7-80b8-cb29cbb9fff4",
        "colab": {
          "base_uri": "https://localhost:8080/",
          "height": 235
        }
      },
      "source": [
        "def sum_fr(a,b):\n",
        "  c = a + b\n",
        "  return c\n",
        "\n",
        "print(\n",
        "     sum_fn(\n",
        "         1, sum_fn(2)\n",
        "        )\n",
        ")\n",
        "\n",
        "print(\n",
        "    sum_fn(\n",
        "        sum_fn(1,2), 3\n",
        "        )\n",
        "    )\n",
        "\n",
        "print(\n",
        "    sum_fn(\n",
        "        sum_fn(1,2), sum_fn(2,2)\n",
        "        )\n",
        "    )\n"
      ],
      "execution_count": null,
      "outputs": [
        {
          "output_type": "error",
          "ename": "NameError",
          "evalue": "ignored",
          "traceback": [
            "\u001b[0;31m---------------------------------------------------------------------------\u001b[0m",
            "\u001b[0;31mNameError\u001b[0m                                 Traceback (most recent call last)",
            "\u001b[0;32m<ipython-input-29-194ba97791d8>\u001b[0m in \u001b[0;36m<module>\u001b[0;34m()\u001b[0m\n\u001b[1;32m      4\u001b[0m \u001b[0;34m\u001b[0m\u001b[0m\n\u001b[1;32m      5\u001b[0m print(\n\u001b[0;32m----> 6\u001b[0;31m      sum_fn(\n\u001b[0m\u001b[1;32m      7\u001b[0m          \u001b[0;36m1\u001b[0m\u001b[0;34m,\u001b[0m \u001b[0msum_fn\u001b[0m\u001b[0;34m(\u001b[0m\u001b[0;36m2\u001b[0m\u001b[0;34m)\u001b[0m\u001b[0;34m\u001b[0m\u001b[0;34m\u001b[0m\u001b[0m\n\u001b[1;32m      8\u001b[0m         )\n",
            "\u001b[0;31mNameError\u001b[0m: name 'sum_fn' is not defined"
          ]
        }
      ]
    },
    {
      "cell_type": "markdown",
      "metadata": {
        "id": "vlAU940kVgDf"
      },
      "source": [
        "DICTIONARY"
      ]
    },
    {
      "cell_type": "code",
      "metadata": {
        "id": "BlejkmcKVlGz",
        "outputId": "49b847e6-9479-46d0-8505-5b3ea151a486",
        "colab": {
          "base_uri": "https://localhost:8080/"
        }
      },
      "source": [
        "irish_pop_dict = {'Dublin': 1345602, 'Antrim': 617345, 'Cork': 546709}\n",
        "print(irish_pop_dict['Dublin'])\n",
        "print(irish_pop_dict.keys())\n",
        "print(irish_pop_dict.values())\n",
        "print(irish_pop_dict.items())\n",
        "print('Dublin' in irish_pop_dict)\n",
        "print('Down' in irish_pop_dict)\n",
        "irish_pop_dict['Down'] = 342183\n",
        "print(irish_pop_dict)"
      ],
      "execution_count": null,
      "outputs": [
        {
          "output_type": "stream",
          "text": [
            "1345602\n",
            "dict_keys(['Dublin', 'Antrim', 'Cork'])\n",
            "dict_values([1345602, 617345, 546709])\n",
            "dict_items([('Dublin', 1345602), ('Antrim', 617345), ('Cork', 546709)])\n",
            "True\n",
            "False\n",
            "{'Dublin': 1345602, 'Antrim': 617345, 'Cork': 546709, 'Down': 342183}\n"
          ],
          "name": "stdout"
        }
      ]
    },
    {
      "cell_type": "markdown",
      "metadata": {
        "id": "_WPtH3qfXWlM"
      },
      "source": [
        "LOOPING OVER THE DICTIONARY"
      ]
    },
    {
      "cell_type": "code",
      "metadata": {
        "id": "ASZ8cqChXfJX",
        "outputId": "99851a2a-aeed-4151-a1d4-8151c6c032d1",
        "colab": {
          "base_uri": "https://localhost:8080/"
        }
      },
      "source": [
        "d = {'one': 1, 'two': 2}\n",
        "\n",
        "for k, v in d.items():\n",
        "  print(k,v)"
      ],
      "execution_count": null,
      "outputs": [
        {
          "output_type": "stream",
          "text": [
            "one 1\n",
            "two 2\n"
          ],
          "name": "stdout"
        }
      ]
    },
    {
      "cell_type": "markdown",
      "metadata": {
        "id": "gRbPJWh8YWec"
      },
      "source": [
        "Practice Dictionary"
      ]
    },
    {
      "cell_type": "code",
      "metadata": {
        "id": "jOrzzRVkYbC4"
      },
      "source": [
        "mycountries_dict = {}\n",
        "\n",
        "mycountries_dict[\"Ireland\"] = ['Dublin', 'Meath']\n",
        "mycountries_dict[\"France\"] = ['Paris', 'Lyon']\n",
        "print(mycountries_dict)\n",
        "#Applying a function\n",
        "mycountries_dict[\"Ireland\"].append('Cork')\n",
        "print(mycountries_dict)\n",
        "for a, c in mycountries_dict.items():\n",
        "  print(a,c)\n",
        "\n"
      ],
      "execution_count": null,
      "outputs": []
    },
    {
      "cell_type": "markdown",
      "metadata": {
        "id": "bsJbbj45c2re"
      },
      "source": [
        "ITER METHODS"
      ]
    },
    {
      "cell_type": "code",
      "metadata": {
        "id": "EmqXWOm5c5Ch"
      },
      "source": [
        "for it in 'cat'# creates an iter method in the background"
      ],
      "execution_count": null,
      "outputs": []
    },
    {
      "cell_type": "markdown",
      "metadata": {
        "id": "axK6AF29fwks"
      },
      "source": [
        "ZIP METHOD"
      ]
    },
    {
      "cell_type": "code",
      "metadata": {
        "id": "XYMv5vaCf1i1",
        "outputId": "f7b45c8c-6a70-4cc9-d779-8cab30140d7a",
        "colab": {
          "base_uri": "https://localhost:8080/"
        }
      },
      "source": [
        "joined = zip([1,2,3], [4,5,6])#packing or zipping\n",
        "for x, y in joined:\n",
        "  print(x,y)\n",
        "\n",
        "  print(*zip([1,2,3], [4,5,6]))\n",
        "  l1,l2 = zip(*zip([1,2,3], [4,5,6]))\n",
        "  print(l1,l2)"
      ],
      "execution_count": null,
      "outputs": [
        {
          "output_type": "stream",
          "text": [
            "1 4\n",
            "(1, 4) (2, 5) (3, 6)\n",
            "(1, 2, 3) (4, 5, 6)\n",
            "2 5\n",
            "(1, 4) (2, 5) (3, 6)\n",
            "(1, 2, 3) (4, 5, 6)\n",
            "3 6\n",
            "(1, 4) (2, 5) (3, 6)\n",
            "(1, 2, 3) (4, 5, 6)\n"
          ],
          "name": "stdout"
        }
      ]
    },
    {
      "cell_type": "markdown",
      "metadata": {
        "id": "TQzOaVyda84V"
      },
      "source": [
        "List Comprehensions"
      ]
    },
    {
      "cell_type": "code",
      "metadata": {
        "id": "HCAu6tuvbIpR"
      },
      "source": [
        "def firstn(n):\n",
        "  num= 0\n",
        "  while num< n:\n",
        "    yield num\n",
        "    num+= 1"
      ],
      "execution_count": null,
      "outputs": []
    },
    {
      "cell_type": "markdown",
      "metadata": {
        "id": "dLxEuuGBqLIY"
      },
      "source": [
        "WEEK 4"
      ]
    },
    {
      "cell_type": "code",
      "metadata": {
        "id": "g0GwtqsAqNXW"
      },
      "source": [
        "def download_save_tweet_data():\n",
        "  if"
      ],
      "execution_count": null,
      "outputs": []
    },
    {
      "cell_type": "markdown",
      "metadata": {
        "id": "sA519vC2ZUkC"
      },
      "source": [
        "WEEK 5 WORK"
      ]
    },
    {
      "cell_type": "code",
      "metadata": {
        "id": "QhqM5EbUZX9c",
        "outputId": "39894632-a440-4d05-971e-9b7872a04f1c",
        "colab": {
          "base_uri": "https://localhost:8080/",
          "height": 783
        }
      },
      "source": [
        "names = ['United States', 'Australia', 'Japan', 'India', 'Russia', 'Morocco', 'Egypt']\n",
        "dr =[True, False, False, False, True, True, True]\n",
        "cpc = [809, 731, 588, 18, 200, 70, 45]\n",
        "\n",
        "my_dict = {'country': names, 'drives_right': dr, 'cars_per_cap': cpc}\n",
        "import pandas as pd\n",
        "cars = pd.DataFrame(my_dict)\n",
        "\n",
        "row_labels= ['US', 'AUS', 'JAP', 'IN', 'RU', 'MOR', 'EG']\n",
        "cars.index = row_labels\n",
        "print(cars)\n",
        "cars.to_csv('cars.csv')# write as csv\n",
        "\n",
        "print(cars['country'])\n",
        "print(type(cars['country']))# Series\n",
        "print(cars[['country']])\n",
        "print(type(cars[['country']]))# DataFrame•\n",
        "print(cars[['country', 'cars_per_cap']]) # can do this, unlike series\n",
        "\n",
        "display(cars[1:3]) #select rows\n",
        "#print(cars[1:3]) #select rows\n",
        "display(cars[1:3][['country', 'drives_right']]) #select rows\n"
      ],
      "execution_count": 9,
      "outputs": [
        {
          "output_type": "stream",
          "text": [
            "           country  drives_right  cars_per_cap\n",
            "US   United States          True           809\n",
            "AUS      Australia         False           731\n",
            "JAP          Japan         False           588\n",
            "IN           India         False            18\n",
            "RU          Russia          True           200\n",
            "MOR        Morocco          True            70\n",
            "EG           Egypt          True            45\n",
            "US     United States\n",
            "AUS        Australia\n",
            "JAP            Japan\n",
            "IN             India\n",
            "RU            Russia\n",
            "MOR          Morocco\n",
            "EG             Egypt\n",
            "Name: country, dtype: object\n",
            "<class 'pandas.core.series.Series'>\n",
            "           country\n",
            "US   United States\n",
            "AUS      Australia\n",
            "JAP          Japan\n",
            "IN           India\n",
            "RU          Russia\n",
            "MOR        Morocco\n",
            "EG           Egypt\n",
            "<class 'pandas.core.frame.DataFrame'>\n",
            "           country  cars_per_cap\n",
            "US   United States           809\n",
            "AUS      Australia           731\n",
            "JAP          Japan           588\n",
            "IN           India            18\n",
            "RU          Russia           200\n",
            "MOR        Morocco            70\n",
            "EG           Egypt            45\n"
          ],
          "name": "stdout"
        },
        {
          "output_type": "display_data",
          "data": {
            "text/html": [
              "<div>\n",
              "<style scoped>\n",
              "    .dataframe tbody tr th:only-of-type {\n",
              "        vertical-align: middle;\n",
              "    }\n",
              "\n",
              "    .dataframe tbody tr th {\n",
              "        vertical-align: top;\n",
              "    }\n",
              "\n",
              "    .dataframe thead th {\n",
              "        text-align: right;\n",
              "    }\n",
              "</style>\n",
              "<table border=\"1\" class=\"dataframe\">\n",
              "  <thead>\n",
              "    <tr style=\"text-align: right;\">\n",
              "      <th></th>\n",
              "      <th>country</th>\n",
              "      <th>drives_right</th>\n",
              "      <th>cars_per_cap</th>\n",
              "    </tr>\n",
              "  </thead>\n",
              "  <tbody>\n",
              "    <tr>\n",
              "      <th>AUS</th>\n",
              "      <td>Australia</td>\n",
              "      <td>False</td>\n",
              "      <td>731</td>\n",
              "    </tr>\n",
              "    <tr>\n",
              "      <th>JAP</th>\n",
              "      <td>Japan</td>\n",
              "      <td>False</td>\n",
              "      <td>588</td>\n",
              "    </tr>\n",
              "  </tbody>\n",
              "</table>\n",
              "</div>"
            ],
            "text/plain": [
              "       country  drives_right  cars_per_cap\n",
              "AUS  Australia         False           731\n",
              "JAP      Japan         False           588"
            ]
          },
          "metadata": {
            "tags": []
          }
        },
        {
          "output_type": "display_data",
          "data": {
            "text/html": [
              "<div>\n",
              "<style scoped>\n",
              "    .dataframe tbody tr th:only-of-type {\n",
              "        vertical-align: middle;\n",
              "    }\n",
              "\n",
              "    .dataframe tbody tr th {\n",
              "        vertical-align: top;\n",
              "    }\n",
              "\n",
              "    .dataframe thead th {\n",
              "        text-align: right;\n",
              "    }\n",
              "</style>\n",
              "<table border=\"1\" class=\"dataframe\">\n",
              "  <thead>\n",
              "    <tr style=\"text-align: right;\">\n",
              "      <th></th>\n",
              "      <th>country</th>\n",
              "      <th>drives_right</th>\n",
              "    </tr>\n",
              "  </thead>\n",
              "  <tbody>\n",
              "    <tr>\n",
              "      <th>AUS</th>\n",
              "      <td>Australia</td>\n",
              "      <td>False</td>\n",
              "    </tr>\n",
              "    <tr>\n",
              "      <th>JAP</th>\n",
              "      <td>Japan</td>\n",
              "      <td>False</td>\n",
              "    </tr>\n",
              "  </tbody>\n",
              "</table>\n",
              "</div>"
            ],
            "text/plain": [
              "       country  drives_right\n",
              "AUS  Australia         False\n",
              "JAP      Japan         False"
            ]
          },
          "metadata": {
            "tags": []
          }
        }
      ]
    },
    {
      "cell_type": "markdown",
      "metadata": {
        "id": "bDlZIJIBdAJE"
      },
      "source": [
        "Selecting Index"
      ]
    },
    {
      "cell_type": "code",
      "metadata": {
        "id": "bNN1yRbHdC8C",
        "outputId": "2bcdbaab-44b6-4012-afb5-45ba80a14f25",
        "colab": {
          "base_uri": "https://localhost:8080/",
          "height": 585
        }
      },
      "source": [
        "display(cars.loc['US'])  # Series•\n",
        "display(cars.loc[['US']])  # DataFrame•\n",
        "display(cars.loc[['US', 'AUS']])  # DataFrame, only selected rows•\n",
        "display(cars.loc[['US', 'AUS'], ['country', 'cars_per_cap']])  # DataFrame, selected rows & columns•\n",
        "display(cars.loc[:, ['country', 'cars_per_cap']])  # DataFrame, only selected column"
      ],
      "execution_count": 11,
      "outputs": [
        {
          "output_type": "display_data",
          "data": {
            "text/plain": [
              "country         United States\n",
              "drives_right             True\n",
              "cars_per_cap              809\n",
              "Name: US, dtype: object"
            ]
          },
          "metadata": {
            "tags": []
          }
        },
        {
          "output_type": "display_data",
          "data": {
            "text/html": [
              "<div>\n",
              "<style scoped>\n",
              "    .dataframe tbody tr th:only-of-type {\n",
              "        vertical-align: middle;\n",
              "    }\n",
              "\n",
              "    .dataframe tbody tr th {\n",
              "        vertical-align: top;\n",
              "    }\n",
              "\n",
              "    .dataframe thead th {\n",
              "        text-align: right;\n",
              "    }\n",
              "</style>\n",
              "<table border=\"1\" class=\"dataframe\">\n",
              "  <thead>\n",
              "    <tr style=\"text-align: right;\">\n",
              "      <th></th>\n",
              "      <th>country</th>\n",
              "      <th>drives_right</th>\n",
              "      <th>cars_per_cap</th>\n",
              "    </tr>\n",
              "  </thead>\n",
              "  <tbody>\n",
              "    <tr>\n",
              "      <th>US</th>\n",
              "      <td>United States</td>\n",
              "      <td>True</td>\n",
              "      <td>809</td>\n",
              "    </tr>\n",
              "  </tbody>\n",
              "</table>\n",
              "</div>"
            ],
            "text/plain": [
              "          country  drives_right  cars_per_cap\n",
              "US  United States          True           809"
            ]
          },
          "metadata": {
            "tags": []
          }
        },
        {
          "output_type": "display_data",
          "data": {
            "text/html": [
              "<div>\n",
              "<style scoped>\n",
              "    .dataframe tbody tr th:only-of-type {\n",
              "        vertical-align: middle;\n",
              "    }\n",
              "\n",
              "    .dataframe tbody tr th {\n",
              "        vertical-align: top;\n",
              "    }\n",
              "\n",
              "    .dataframe thead th {\n",
              "        text-align: right;\n",
              "    }\n",
              "</style>\n",
              "<table border=\"1\" class=\"dataframe\">\n",
              "  <thead>\n",
              "    <tr style=\"text-align: right;\">\n",
              "      <th></th>\n",
              "      <th>country</th>\n",
              "      <th>drives_right</th>\n",
              "      <th>cars_per_cap</th>\n",
              "    </tr>\n",
              "  </thead>\n",
              "  <tbody>\n",
              "    <tr>\n",
              "      <th>US</th>\n",
              "      <td>United States</td>\n",
              "      <td>True</td>\n",
              "      <td>809</td>\n",
              "    </tr>\n",
              "    <tr>\n",
              "      <th>AUS</th>\n",
              "      <td>Australia</td>\n",
              "      <td>False</td>\n",
              "      <td>731</td>\n",
              "    </tr>\n",
              "  </tbody>\n",
              "</table>\n",
              "</div>"
            ],
            "text/plain": [
              "           country  drives_right  cars_per_cap\n",
              "US   United States          True           809\n",
              "AUS      Australia         False           731"
            ]
          },
          "metadata": {
            "tags": []
          }
        },
        {
          "output_type": "display_data",
          "data": {
            "text/html": [
              "<div>\n",
              "<style scoped>\n",
              "    .dataframe tbody tr th:only-of-type {\n",
              "        vertical-align: middle;\n",
              "    }\n",
              "\n",
              "    .dataframe tbody tr th {\n",
              "        vertical-align: top;\n",
              "    }\n",
              "\n",
              "    .dataframe thead th {\n",
              "        text-align: right;\n",
              "    }\n",
              "</style>\n",
              "<table border=\"1\" class=\"dataframe\">\n",
              "  <thead>\n",
              "    <tr style=\"text-align: right;\">\n",
              "      <th></th>\n",
              "      <th>country</th>\n",
              "      <th>cars_per_cap</th>\n",
              "    </tr>\n",
              "  </thead>\n",
              "  <tbody>\n",
              "    <tr>\n",
              "      <th>US</th>\n",
              "      <td>United States</td>\n",
              "      <td>809</td>\n",
              "    </tr>\n",
              "    <tr>\n",
              "      <th>AUS</th>\n",
              "      <td>Australia</td>\n",
              "      <td>731</td>\n",
              "    </tr>\n",
              "  </tbody>\n",
              "</table>\n",
              "</div>"
            ],
            "text/plain": [
              "           country  cars_per_cap\n",
              "US   United States           809\n",
              "AUS      Australia           731"
            ]
          },
          "metadata": {
            "tags": []
          }
        },
        {
          "output_type": "display_data",
          "data": {
            "text/html": [
              "<div>\n",
              "<style scoped>\n",
              "    .dataframe tbody tr th:only-of-type {\n",
              "        vertical-align: middle;\n",
              "    }\n",
              "\n",
              "    .dataframe tbody tr th {\n",
              "        vertical-align: top;\n",
              "    }\n",
              "\n",
              "    .dataframe thead th {\n",
              "        text-align: right;\n",
              "    }\n",
              "</style>\n",
              "<table border=\"1\" class=\"dataframe\">\n",
              "  <thead>\n",
              "    <tr style=\"text-align: right;\">\n",
              "      <th></th>\n",
              "      <th>country</th>\n",
              "      <th>cars_per_cap</th>\n",
              "    </tr>\n",
              "  </thead>\n",
              "  <tbody>\n",
              "    <tr>\n",
              "      <th>US</th>\n",
              "      <td>United States</td>\n",
              "      <td>809</td>\n",
              "    </tr>\n",
              "    <tr>\n",
              "      <th>AUS</th>\n",
              "      <td>Australia</td>\n",
              "      <td>731</td>\n",
              "    </tr>\n",
              "    <tr>\n",
              "      <th>JAP</th>\n",
              "      <td>Japan</td>\n",
              "      <td>588</td>\n",
              "    </tr>\n",
              "    <tr>\n",
              "      <th>IN</th>\n",
              "      <td>India</td>\n",
              "      <td>18</td>\n",
              "    </tr>\n",
              "    <tr>\n",
              "      <th>RU</th>\n",
              "      <td>Russia</td>\n",
              "      <td>200</td>\n",
              "    </tr>\n",
              "    <tr>\n",
              "      <th>MOR</th>\n",
              "      <td>Morocco</td>\n",
              "      <td>70</td>\n",
              "    </tr>\n",
              "    <tr>\n",
              "      <th>EG</th>\n",
              "      <td>Egypt</td>\n",
              "      <td>45</td>\n",
              "    </tr>\n",
              "  </tbody>\n",
              "</table>\n",
              "</div>"
            ],
            "text/plain": [
              "           country  cars_per_cap\n",
              "US   United States           809\n",
              "AUS      Australia           731\n",
              "JAP          Japan           588\n",
              "IN           India            18\n",
              "RU          Russia           200\n",
              "MOR        Morocco            70\n",
              "EG           Egypt            45"
            ]
          },
          "metadata": {
            "tags": []
          }
        }
      ]
    },
    {
      "cell_type": "markdown",
      "metadata": {
        "id": "nLbdLvwWec9g"
      },
      "source": [
        "Using iloc to select index"
      ]
    },
    {
      "cell_type": "code",
      "metadata": {
        "id": "Hk8OQhWdei_q",
        "outputId": "b376d3ed-2eb0-4d0c-f9d7-9b3b26e3f1fa",
        "colab": {
          "base_uri": "https://localhost:8080/",
          "height": 492
        }
      },
      "source": [
        "display(cars.iloc[0])  # Series•\n",
        "display(cars.iloc[[0]])  # DataFrame•\n",
        "display(cars.iloc[[0, 1]])  # DataFrame, only selected rows•\n",
        "display(cars.iloc[[0, 1], [0, 1]])  # DataFrame, selected rows & columns•\n",
        "display(cars.iloc[2:6, [0, 1]])  # DataFrame, only selected columns"
      ],
      "execution_count": 14,
      "outputs": [
        {
          "output_type": "display_data",
          "data": {
            "text/plain": [
              "country         United States\n",
              "drives_right             True\n",
              "cars_per_cap              809\n",
              "Name: US, dtype: object"
            ]
          },
          "metadata": {
            "tags": []
          }
        },
        {
          "output_type": "display_data",
          "data": {
            "text/html": [
              "<div>\n",
              "<style scoped>\n",
              "    .dataframe tbody tr th:only-of-type {\n",
              "        vertical-align: middle;\n",
              "    }\n",
              "\n",
              "    .dataframe tbody tr th {\n",
              "        vertical-align: top;\n",
              "    }\n",
              "\n",
              "    .dataframe thead th {\n",
              "        text-align: right;\n",
              "    }\n",
              "</style>\n",
              "<table border=\"1\" class=\"dataframe\">\n",
              "  <thead>\n",
              "    <tr style=\"text-align: right;\">\n",
              "      <th></th>\n",
              "      <th>country</th>\n",
              "      <th>drives_right</th>\n",
              "      <th>cars_per_cap</th>\n",
              "    </tr>\n",
              "  </thead>\n",
              "  <tbody>\n",
              "    <tr>\n",
              "      <th>US</th>\n",
              "      <td>United States</td>\n",
              "      <td>True</td>\n",
              "      <td>809</td>\n",
              "    </tr>\n",
              "  </tbody>\n",
              "</table>\n",
              "</div>"
            ],
            "text/plain": [
              "          country  drives_right  cars_per_cap\n",
              "US  United States          True           809"
            ]
          },
          "metadata": {
            "tags": []
          }
        },
        {
          "output_type": "display_data",
          "data": {
            "text/html": [
              "<div>\n",
              "<style scoped>\n",
              "    .dataframe tbody tr th:only-of-type {\n",
              "        vertical-align: middle;\n",
              "    }\n",
              "\n",
              "    .dataframe tbody tr th {\n",
              "        vertical-align: top;\n",
              "    }\n",
              "\n",
              "    .dataframe thead th {\n",
              "        text-align: right;\n",
              "    }\n",
              "</style>\n",
              "<table border=\"1\" class=\"dataframe\">\n",
              "  <thead>\n",
              "    <tr style=\"text-align: right;\">\n",
              "      <th></th>\n",
              "      <th>country</th>\n",
              "      <th>drives_right</th>\n",
              "      <th>cars_per_cap</th>\n",
              "    </tr>\n",
              "  </thead>\n",
              "  <tbody>\n",
              "    <tr>\n",
              "      <th>US</th>\n",
              "      <td>United States</td>\n",
              "      <td>True</td>\n",
              "      <td>809</td>\n",
              "    </tr>\n",
              "    <tr>\n",
              "      <th>AUS</th>\n",
              "      <td>Australia</td>\n",
              "      <td>False</td>\n",
              "      <td>731</td>\n",
              "    </tr>\n",
              "  </tbody>\n",
              "</table>\n",
              "</div>"
            ],
            "text/plain": [
              "           country  drives_right  cars_per_cap\n",
              "US   United States          True           809\n",
              "AUS      Australia         False           731"
            ]
          },
          "metadata": {
            "tags": []
          }
        },
        {
          "output_type": "display_data",
          "data": {
            "text/html": [
              "<div>\n",
              "<style scoped>\n",
              "    .dataframe tbody tr th:only-of-type {\n",
              "        vertical-align: middle;\n",
              "    }\n",
              "\n",
              "    .dataframe tbody tr th {\n",
              "        vertical-align: top;\n",
              "    }\n",
              "\n",
              "    .dataframe thead th {\n",
              "        text-align: right;\n",
              "    }\n",
              "</style>\n",
              "<table border=\"1\" class=\"dataframe\">\n",
              "  <thead>\n",
              "    <tr style=\"text-align: right;\">\n",
              "      <th></th>\n",
              "      <th>country</th>\n",
              "      <th>drives_right</th>\n",
              "    </tr>\n",
              "  </thead>\n",
              "  <tbody>\n",
              "    <tr>\n",
              "      <th>US</th>\n",
              "      <td>United States</td>\n",
              "      <td>True</td>\n",
              "    </tr>\n",
              "    <tr>\n",
              "      <th>AUS</th>\n",
              "      <td>Australia</td>\n",
              "      <td>False</td>\n",
              "    </tr>\n",
              "  </tbody>\n",
              "</table>\n",
              "</div>"
            ],
            "text/plain": [
              "           country  drives_right\n",
              "US   United States          True\n",
              "AUS      Australia         False"
            ]
          },
          "metadata": {
            "tags": []
          }
        },
        {
          "output_type": "display_data",
          "data": {
            "text/html": [
              "<div>\n",
              "<style scoped>\n",
              "    .dataframe tbody tr th:only-of-type {\n",
              "        vertical-align: middle;\n",
              "    }\n",
              "\n",
              "    .dataframe tbody tr th {\n",
              "        vertical-align: top;\n",
              "    }\n",
              "\n",
              "    .dataframe thead th {\n",
              "        text-align: right;\n",
              "    }\n",
              "</style>\n",
              "<table border=\"1\" class=\"dataframe\">\n",
              "  <thead>\n",
              "    <tr style=\"text-align: right;\">\n",
              "      <th></th>\n",
              "      <th>country</th>\n",
              "      <th>drives_right</th>\n",
              "    </tr>\n",
              "  </thead>\n",
              "  <tbody>\n",
              "    <tr>\n",
              "      <th>JAP</th>\n",
              "      <td>Japan</td>\n",
              "      <td>False</td>\n",
              "    </tr>\n",
              "    <tr>\n",
              "      <th>IN</th>\n",
              "      <td>India</td>\n",
              "      <td>False</td>\n",
              "    </tr>\n",
              "    <tr>\n",
              "      <th>RU</th>\n",
              "      <td>Russia</td>\n",
              "      <td>True</td>\n",
              "    </tr>\n",
              "    <tr>\n",
              "      <th>MOR</th>\n",
              "      <td>Morocco</td>\n",
              "      <td>True</td>\n",
              "    </tr>\n",
              "  </tbody>\n",
              "</table>\n",
              "</div>"
            ],
            "text/plain": [
              "     country  drives_right\n",
              "JAP    Japan         False\n",
              "IN     India         False\n",
              "RU    Russia          True\n",
              "MOR  Morocco          True"
            ]
          },
          "metadata": {
            "tags": []
          }
        }
      ]
    },
    {
      "cell_type": "markdown",
      "metadata": {
        "id": "KCkeUHJNgoXe"
      },
      "source": [
        "Filtering DataFrame"
      ]
    },
    {
      "cell_type": "code",
      "metadata": {
        "id": "bF3nXVDugsKe",
        "outputId": "a3847c89-a138-49db-909f-79cfbfc77443",
        "colab": {
          "base_uri": "https://localhost:8080/",
          "height": 590
        }
      },
      "source": [
        "dr = cars['drives_right']\n",
        "display(dr)\n",
        "\n",
        "sel= cars[dr]\n",
        "display(sel)\n",
        "\n",
        "display(cars[cars['drives_right']])# one line version\n",
        "\n",
        "lim= cars['cars_per_cap']>500# select bool series•\n",
        "sel= cars[lim]# filter cars with condition•\n",
        "display(sel)"
      ],
      "execution_count": 15,
      "outputs": [
        {
          "output_type": "display_data",
          "data": {
            "text/plain": [
              "US      True\n",
              "AUS    False\n",
              "JAP    False\n",
              "IN     False\n",
              "RU      True\n",
              "MOR     True\n",
              "EG      True\n",
              "Name: drives_right, dtype: bool"
            ]
          },
          "metadata": {
            "tags": []
          }
        },
        {
          "output_type": "display_data",
          "data": {
            "text/html": [
              "<div>\n",
              "<style scoped>\n",
              "    .dataframe tbody tr th:only-of-type {\n",
              "        vertical-align: middle;\n",
              "    }\n",
              "\n",
              "    .dataframe tbody tr th {\n",
              "        vertical-align: top;\n",
              "    }\n",
              "\n",
              "    .dataframe thead th {\n",
              "        text-align: right;\n",
              "    }\n",
              "</style>\n",
              "<table border=\"1\" class=\"dataframe\">\n",
              "  <thead>\n",
              "    <tr style=\"text-align: right;\">\n",
              "      <th></th>\n",
              "      <th>country</th>\n",
              "      <th>drives_right</th>\n",
              "      <th>cars_per_cap</th>\n",
              "    </tr>\n",
              "  </thead>\n",
              "  <tbody>\n",
              "    <tr>\n",
              "      <th>US</th>\n",
              "      <td>United States</td>\n",
              "      <td>True</td>\n",
              "      <td>809</td>\n",
              "    </tr>\n",
              "    <tr>\n",
              "      <th>RU</th>\n",
              "      <td>Russia</td>\n",
              "      <td>True</td>\n",
              "      <td>200</td>\n",
              "    </tr>\n",
              "    <tr>\n",
              "      <th>MOR</th>\n",
              "      <td>Morocco</td>\n",
              "      <td>True</td>\n",
              "      <td>70</td>\n",
              "    </tr>\n",
              "    <tr>\n",
              "      <th>EG</th>\n",
              "      <td>Egypt</td>\n",
              "      <td>True</td>\n",
              "      <td>45</td>\n",
              "    </tr>\n",
              "  </tbody>\n",
              "</table>\n",
              "</div>"
            ],
            "text/plain": [
              "           country  drives_right  cars_per_cap\n",
              "US   United States          True           809\n",
              "RU          Russia          True           200\n",
              "MOR        Morocco          True            70\n",
              "EG           Egypt          True            45"
            ]
          },
          "metadata": {
            "tags": []
          }
        },
        {
          "output_type": "display_data",
          "data": {
            "text/html": [
              "<div>\n",
              "<style scoped>\n",
              "    .dataframe tbody tr th:only-of-type {\n",
              "        vertical-align: middle;\n",
              "    }\n",
              "\n",
              "    .dataframe tbody tr th {\n",
              "        vertical-align: top;\n",
              "    }\n",
              "\n",
              "    .dataframe thead th {\n",
              "        text-align: right;\n",
              "    }\n",
              "</style>\n",
              "<table border=\"1\" class=\"dataframe\">\n",
              "  <thead>\n",
              "    <tr style=\"text-align: right;\">\n",
              "      <th></th>\n",
              "      <th>country</th>\n",
              "      <th>drives_right</th>\n",
              "      <th>cars_per_cap</th>\n",
              "    </tr>\n",
              "  </thead>\n",
              "  <tbody>\n",
              "    <tr>\n",
              "      <th>US</th>\n",
              "      <td>United States</td>\n",
              "      <td>True</td>\n",
              "      <td>809</td>\n",
              "    </tr>\n",
              "    <tr>\n",
              "      <th>RU</th>\n",
              "      <td>Russia</td>\n",
              "      <td>True</td>\n",
              "      <td>200</td>\n",
              "    </tr>\n",
              "    <tr>\n",
              "      <th>MOR</th>\n",
              "      <td>Morocco</td>\n",
              "      <td>True</td>\n",
              "      <td>70</td>\n",
              "    </tr>\n",
              "    <tr>\n",
              "      <th>EG</th>\n",
              "      <td>Egypt</td>\n",
              "      <td>True</td>\n",
              "      <td>45</td>\n",
              "    </tr>\n",
              "  </tbody>\n",
              "</table>\n",
              "</div>"
            ],
            "text/plain": [
              "           country  drives_right  cars_per_cap\n",
              "US   United States          True           809\n",
              "RU          Russia          True           200\n",
              "MOR        Morocco          True            70\n",
              "EG           Egypt          True            45"
            ]
          },
          "metadata": {
            "tags": []
          }
        },
        {
          "output_type": "display_data",
          "data": {
            "text/html": [
              "<div>\n",
              "<style scoped>\n",
              "    .dataframe tbody tr th:only-of-type {\n",
              "        vertical-align: middle;\n",
              "    }\n",
              "\n",
              "    .dataframe tbody tr th {\n",
              "        vertical-align: top;\n",
              "    }\n",
              "\n",
              "    .dataframe thead th {\n",
              "        text-align: right;\n",
              "    }\n",
              "</style>\n",
              "<table border=\"1\" class=\"dataframe\">\n",
              "  <thead>\n",
              "    <tr style=\"text-align: right;\">\n",
              "      <th></th>\n",
              "      <th>country</th>\n",
              "      <th>drives_right</th>\n",
              "      <th>cars_per_cap</th>\n",
              "    </tr>\n",
              "  </thead>\n",
              "  <tbody>\n",
              "    <tr>\n",
              "      <th>US</th>\n",
              "      <td>United States</td>\n",
              "      <td>True</td>\n",
              "      <td>809</td>\n",
              "    </tr>\n",
              "    <tr>\n",
              "      <th>AUS</th>\n",
              "      <td>Australia</td>\n",
              "      <td>False</td>\n",
              "      <td>731</td>\n",
              "    </tr>\n",
              "    <tr>\n",
              "      <th>JAP</th>\n",
              "      <td>Japan</td>\n",
              "      <td>False</td>\n",
              "      <td>588</td>\n",
              "    </tr>\n",
              "  </tbody>\n",
              "</table>\n",
              "</div>"
            ],
            "text/plain": [
              "           country  drives_right  cars_per_cap\n",
              "US   United States          True           809\n",
              "AUS      Australia         False           731\n",
              "JAP          Japan         False           588"
            ]
          },
          "metadata": {
            "tags": []
          }
        }
      ]
    },
    {
      "cell_type": "markdown",
      "metadata": {
        "id": "J562VdKbjYbH"
      },
      "source": [
        "Filtering using between"
      ]
    },
    {
      "cell_type": "code",
      "metadata": {
        "id": "MH-2c6_bjcGG",
        "outputId": "86b6f8d9-964f-4942-cec7-8a8e09f10ccb",
        "colab": {
          "base_uri": "https://localhost:8080/",
          "height": 329
        }
      },
      "source": [
        "cpc = cars['cars_per_cap']\n",
        "import numpy as np\n",
        "between = np.logical_and(cpc > 100, cpc < 500)\n",
        "medium = cars[between]\n",
        "display(medium)\n",
        "\n",
        "display(cars[cars['cars_per_cap']== 809])"
      ],
      "execution_count": 25,
      "outputs": [
        {
          "output_type": "display_data",
          "data": {
            "text/html": [
              "<div>\n",
              "<style scoped>\n",
              "    .dataframe tbody tr th:only-of-type {\n",
              "        vertical-align: middle;\n",
              "    }\n",
              "\n",
              "    .dataframe tbody tr th {\n",
              "        vertical-align: top;\n",
              "    }\n",
              "\n",
              "    .dataframe thead th {\n",
              "        text-align: right;\n",
              "    }\n",
              "</style>\n",
              "<table border=\"1\" class=\"dataframe\">\n",
              "  <thead>\n",
              "    <tr style=\"text-align: right;\">\n",
              "      <th></th>\n",
              "      <th>country</th>\n",
              "      <th>drives_right</th>\n",
              "      <th>cars_per_cap</th>\n",
              "    </tr>\n",
              "  </thead>\n",
              "  <tbody>\n",
              "    <tr>\n",
              "      <th>US</th>\n",
              "      <td>United States</td>\n",
              "      <td>True</td>\n",
              "      <td>809</td>\n",
              "    </tr>\n",
              "    <tr>\n",
              "      <th>AUS</th>\n",
              "      <td>Australia</td>\n",
              "      <td>False</td>\n",
              "      <td>731</td>\n",
              "    </tr>\n",
              "    <tr>\n",
              "      <th>JAP</th>\n",
              "      <td>Japan</td>\n",
              "      <td>False</td>\n",
              "      <td>588</td>\n",
              "    </tr>\n",
              "    <tr>\n",
              "      <th>IN</th>\n",
              "      <td>India</td>\n",
              "      <td>False</td>\n",
              "      <td>18</td>\n",
              "    </tr>\n",
              "    <tr>\n",
              "      <th>RU</th>\n",
              "      <td>Russia</td>\n",
              "      <td>True</td>\n",
              "      <td>200</td>\n",
              "    </tr>\n",
              "    <tr>\n",
              "      <th>MOR</th>\n",
              "      <td>Morocco</td>\n",
              "      <td>True</td>\n",
              "      <td>70</td>\n",
              "    </tr>\n",
              "    <tr>\n",
              "      <th>EG</th>\n",
              "      <td>Egypt</td>\n",
              "      <td>True</td>\n",
              "      <td>45</td>\n",
              "    </tr>\n",
              "  </tbody>\n",
              "</table>\n",
              "</div>"
            ],
            "text/plain": [
              "           country  drives_right  cars_per_cap\n",
              "US   United States          True           809\n",
              "AUS      Australia         False           731\n",
              "JAP          Japan         False           588\n",
              "IN           India         False            18\n",
              "RU          Russia          True           200\n",
              "MOR        Morocco          True            70\n",
              "EG           Egypt          True            45"
            ]
          },
          "metadata": {
            "tags": []
          }
        },
        {
          "output_type": "display_data",
          "data": {
            "text/html": [
              "<div>\n",
              "<style scoped>\n",
              "    .dataframe tbody tr th:only-of-type {\n",
              "        vertical-align: middle;\n",
              "    }\n",
              "\n",
              "    .dataframe tbody tr th {\n",
              "        vertical-align: top;\n",
              "    }\n",
              "\n",
              "    .dataframe thead th {\n",
              "        text-align: right;\n",
              "    }\n",
              "</style>\n",
              "<table border=\"1\" class=\"dataframe\">\n",
              "  <thead>\n",
              "    <tr style=\"text-align: right;\">\n",
              "      <th></th>\n",
              "      <th>country</th>\n",
              "      <th>drives_right</th>\n",
              "      <th>cars_per_cap</th>\n",
              "    </tr>\n",
              "  </thead>\n",
              "  <tbody>\n",
              "    <tr>\n",
              "      <th>US</th>\n",
              "      <td>United States</td>\n",
              "      <td>True</td>\n",
              "      <td>809</td>\n",
              "    </tr>\n",
              "  </tbody>\n",
              "</table>\n",
              "</div>"
            ],
            "text/plain": [
              "          country  drives_right  cars_per_cap\n",
              "US  United States          True           809"
            ]
          },
          "metadata": {
            "tags": []
          }
        }
      ]
    }
  ]
}